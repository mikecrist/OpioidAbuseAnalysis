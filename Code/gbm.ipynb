{
 "cells": [
  {
   "cell_type": "code",
   "execution_count": 1,
   "metadata": {},
   "outputs": [
    {
     "name": "stderr",
     "output_type": "stream",
     "text": [
      "Warning message:\n",
      "\"package 'dplyr' was built under R version 3.6.3\"\n",
      "Attaching package: 'dplyr'\n",
      "\n",
      "The following objects are masked from 'package:stats':\n",
      "\n",
      "    filter, lag\n",
      "\n",
      "The following objects are masked from 'package:base':\n",
      "\n",
      "    intersect, setdiff, setequal, union\n",
      "\n"
     ]
    }
   ],
   "source": [
    "# read data\n",
    "data = read.csv(\"prlmis-data-full.csv\", header=TRUE, fileEncoding=\"UTF-8-BOM\")\n",
    "\n",
    "library(dplyr)\n",
    "\n",
    "# remove alternate response variables\n",
    "data = select(data, -c(\"PRLANY\",\"PRLMISAB\"))\n",
    "\n",
    "# update categorical values from raw dataset to be descriptive\n",
    "data$YEAR <- replace(data$YEAR, data$YEAR==\"15\", \"2015\")\n",
    "data$YEAR <- replace(data$YEAR, data$YEAR==\"16\", \"2016\")\n",
    "data$YEAR <- replace(data$YEAR, data$YEAR==\"17\", \"2017\")\n",
    "\n",
    "data$AGECAT <- replace(data$AGECAT, data$AGECAT==\"1\", \"12-17\")\n",
    "data$AGECAT <- replace(data$AGECAT, data$AGECAT==\"2\", \"18-25\")\n",
    "data$AGECAT <- replace(data$AGECAT, data$AGECAT==\"3\", \"26-35\")\n",
    "data$AGECAT <- replace(data$AGECAT, data$AGECAT==\"4\", \"36-49\")\n",
    "data$AGECAT <- replace(data$AGECAT, data$AGECAT==\"5\", \"50+\")\n",
    "\n",
    "data$SEX <- replace(data$SEX, data$SEX==\"0\", \"Male\")\n",
    "data$SEX <- replace(data$SEX, data$SEX==\"1\", \"Female\")\n",
    "\n",
    "data$MARRIED <- replace(data$MARRIED, data$MARRIED==\"0\", \"Unmarried\")\n",
    "data$MARRIED <- replace(data$MARRIED, data$MARRIED==\"1\", \"Divorced\")\n",
    "data$MARRIED <- replace(data$MARRIED, data$MARRIED==\"2\", \"Widowed\")\n",
    "data$MARRIED <- replace(data$MARRIED, data$MARRIED==\"3\", \"Married\")\n",
    "data$MARRIED <- replace(data$MARRIED, data$MARRIED==\"4\", \"Married\")\n",
    "\n",
    "data$EDUCAT <- replace(data$EDUCAT, data$EDUCAT==\"1\", \"School Age\")\n",
    "data$EDUCAT <- replace(data$EDUCAT, data$EDUCAT==\"2\", \"Some HS\")\n",
    "data$EDUCAT <- replace(data$EDUCAT, data$EDUCAT==\"3\", \"HS grad\")\n",
    "data$EDUCAT <- replace(data$EDUCAT, data$EDUCAT==\"4\", \"Some College\")\n",
    "data$EDUCAT <- replace(data$EDUCAT, data$EDUCAT==\"5\", \"College Grad\")\n",
    "\n",
    "data$EMPLOY18 <- replace(data$EMPLOY18, data$EMPLOY18==\"0\", \"Unemployed\")\n",
    "data$EMPLOY18 <- replace(data$EMPLOY18, data$EMPLOY18==\"1\", \"Part-Time\")\n",
    "data$EMPLOY18 <- replace(data$EMPLOY18, data$EMPLOY18==\"2\", \"Full-Time\")\n",
    "\n",
    "# wrong\n",
    "data$CTYMETRO <- replace(data$CTYMETRO, data$CTYMETRO==\"1\", \"Rural\")\n",
    "data$CTYMETRO <- replace(data$CTYMETRO, data$CTYMETRO==\"2\", \"Small\")\n",
    "data$CTYMETRO <- replace(data$CTYMETRO, data$CTYMETRO==\"3\", \"Large\")\n",
    "data$CTYMETRO <- replace(data$CTYMETRO, data$CTYMETRO==\"0\", \"na\")\n",
    "\n",
    "# convert categorical variables to factors\n",
    "data$YEAR<-as.factor(data$YEAR)\n",
    "data$AGECAT<-as.factor(data$AGECAT)\n",
    "data$SEX<-as.factor(data$SEX)\n",
    "data$MARRIED<-as.factor(data$MARRIED)\n",
    "data$EDUCAT<-as.factor(data$EDUCAT)\n",
    "data$EMPLOY18<-as.factor(data$EMPLOY18)\n",
    "data$CTYMETRO<-as.factor(data$CTYMETRO)\n",
    "#data$PRLMISEVR<-as.factor(data$PRLMISEVR)\n",
    "data$HEROINEVR<-as.factor(data$HEROINEVR)"
   ]
  },
  {
   "cell_type": "code",
   "execution_count": 83,
   "metadata": {},
   "outputs": [
    {
     "data": {
      "text/html": [
       "<ol class=list-inline>\n",
       "\t<li>127738</li>\n",
       "\t<li>19</li>\n",
       "</ol>\n"
      ],
      "text/latex": [
       "\\begin{enumerate*}\n",
       "\\item 127738\n",
       "\\item 19\n",
       "\\end{enumerate*}\n"
      ],
      "text/markdown": [
       "1. 127738\n",
       "2. 19\n",
       "\n",
       "\n"
      ],
      "text/plain": [
       "[1] 127738     19"
      ]
     },
     "metadata": {},
     "output_type": "display_data"
    },
    {
     "data": {
      "text/html": [
       "<ol class=list-inline>\n",
       "\t<li>42579</li>\n",
       "\t<li>19</li>\n",
       "</ol>\n"
      ],
      "text/latex": [
       "\\begin{enumerate*}\n",
       "\\item 42579\n",
       "\\item 19\n",
       "\\end{enumerate*}\n"
      ],
      "text/markdown": [
       "1. 42579\n",
       "2. 19\n",
       "\n",
       "\n"
      ],
      "text/plain": [
       "[1] 42579    19"
      ]
     },
     "metadata": {},
     "output_type": "display_data"
    }
   ],
   "source": [
    "# train/test split\n",
    "set.seed(123)\n",
    "\n",
    "fractrain = 0.75\n",
    "fractest = 1-fractrain\n",
    "flag <- sort(sample(dim(data)[1], dim(data)[1]*fractest, replace = FALSE))\n",
    "train <- data[-flag,]\n",
    "test <- data[flag,]\n",
    "dim(train)\n",
    "dim(test)"
   ]
  },
  {
   "cell_type": "code",
   "execution_count": 5,
   "metadata": {},
   "outputs": [],
   "source": [
    "# create gbm model\n",
    "library(gbm)"
   ]
  },
  {
   "cell_type": "code",
   "execution_count": 84,
   "metadata": {},
   "outputs": [],
   "source": [
    "# build default gbm model\n",
    "gbm1 <- gbm(PRLMISEVR ~ ., data=train, distribution = 'bernoulli',\n",
    "            n.trees=2000,\n",
    "            cv.folds = 3)"
   ]
  },
  {
   "cell_type": "code",
   "execution_count": 105,
   "metadata": {},
   "outputs": [
    {
     "data": {
      "text/html": [
       "<table>\n",
       "<thead><tr><th></th><th scope=col>var</th><th scope=col>rel.inf</th></tr></thead>\n",
       "<tbody>\n",
       "\t<tr><th scope=row>HALUCNG</th><td>HALUCNG   </td><td>34.5456993</td></tr>\n",
       "\t<tr><th scope=row>COCAINE</th><td>COCAINE   </td><td>17.2879423</td></tr>\n",
       "\t<tr><th scope=row>AMPHETMN</th><td>AMPHETMN  </td><td>12.0156335</td></tr>\n",
       "\t<tr><th scope=row>TRQLZRS</th><td>TRQLZRS   </td><td>10.0844533</td></tr>\n",
       "\t<tr><th scope=row>MENTHLTH</th><td>MENTHLTH  </td><td> 7.2147968</td></tr>\n",
       "\t<tr><th scope=row>HEROINUSE</th><td>HEROINUSE </td><td> 4.1226177</td></tr>\n",
       "\t<tr><th scope=row>TRTMENT</th><td>TRTMENT   </td><td> 3.5967053</td></tr>\n",
       "\t<tr><th scope=row>HEROINEVR</th><td>HEROINEVR </td><td> 3.5230155</td></tr>\n",
       "\t<tr><th scope=row>SEDATVS</th><td>SEDATVS   </td><td> 2.2112590</td></tr>\n",
       "\t<tr><th scope=row>AGECAT</th><td>AGECAT    </td><td> 1.8794893</td></tr>\n",
       "\t<tr><th scope=row>MHTRTMT</th><td>MHTRTMT   </td><td> 1.3467648</td></tr>\n",
       "\t<tr><th scope=row>HEALTH</th><td>HEALTH    </td><td> 0.7848716</td></tr>\n",
       "\t<tr><th scope=row>MARRIED</th><td>MARRIED   </td><td> 0.3513962</td></tr>\n",
       "\t<tr><th scope=row>EMPLOY18</th><td>EMPLOY18  </td><td> 0.3213484</td></tr>\n",
       "\t<tr><th scope=row>CTYMETRO</th><td>CTYMETRO  </td><td> 0.2256812</td></tr>\n",
       "\t<tr><th scope=row>EDUCAT</th><td>EDUCAT    </td><td> 0.2130315</td></tr>\n",
       "\t<tr><th scope=row>SEX</th><td>SEX       </td><td> 0.1421354</td></tr>\n",
       "\t<tr><th scope=row>YEAR</th><td>YEAR      </td><td> 0.1331589</td></tr>\n",
       "</tbody>\n",
       "</table>\n"
      ],
      "text/latex": [
       "\\begin{tabular}{r|ll}\n",
       "  & var & rel.inf\\\\\n",
       "\\hline\n",
       "\tHALUCNG & HALUCNG    & 34.5456993\\\\\n",
       "\tCOCAINE & COCAINE    & 17.2879423\\\\\n",
       "\tAMPHETMN & AMPHETMN   & 12.0156335\\\\\n",
       "\tTRQLZRS & TRQLZRS    & 10.0844533\\\\\n",
       "\tMENTHLTH & MENTHLTH   &  7.2147968\\\\\n",
       "\tHEROINUSE & HEROINUSE  &  4.1226177\\\\\n",
       "\tTRTMENT & TRTMENT    &  3.5967053\\\\\n",
       "\tHEROINEVR & HEROINEVR  &  3.5230155\\\\\n",
       "\tSEDATVS & SEDATVS    &  2.2112590\\\\\n",
       "\tAGECAT & AGECAT     &  1.8794893\\\\\n",
       "\tMHTRTMT & MHTRTMT    &  1.3467648\\\\\n",
       "\tHEALTH & HEALTH     &  0.7848716\\\\\n",
       "\tMARRIED & MARRIED    &  0.3513962\\\\\n",
       "\tEMPLOY18 & EMPLOY18   &  0.3213484\\\\\n",
       "\tCTYMETRO & CTYMETRO   &  0.2256812\\\\\n",
       "\tEDUCAT & EDUCAT     &  0.2130315\\\\\n",
       "\tSEX & SEX        &  0.1421354\\\\\n",
       "\tYEAR & YEAR       &  0.1331589\\\\\n",
       "\\end{tabular}\n"
      ],
      "text/markdown": [
       "\n",
       "| <!--/--> | var | rel.inf |\n",
       "|---|---|---|\n",
       "| HALUCNG | HALUCNG    | 34.5456993 |\n",
       "| COCAINE | COCAINE    | 17.2879423 |\n",
       "| AMPHETMN | AMPHETMN   | 12.0156335 |\n",
       "| TRQLZRS | TRQLZRS    | 10.0844533 |\n",
       "| MENTHLTH | MENTHLTH   |  7.2147968 |\n",
       "| HEROINUSE | HEROINUSE  |  4.1226177 |\n",
       "| TRTMENT | TRTMENT    |  3.5967053 |\n",
       "| HEROINEVR | HEROINEVR  |  3.5230155 |\n",
       "| SEDATVS | SEDATVS    |  2.2112590 |\n",
       "| AGECAT | AGECAT     |  1.8794893 |\n",
       "| MHTRTMT | MHTRTMT    |  1.3467648 |\n",
       "| HEALTH | HEALTH     |  0.7848716 |\n",
       "| MARRIED | MARRIED    |  0.3513962 |\n",
       "| EMPLOY18 | EMPLOY18   |  0.3213484 |\n",
       "| CTYMETRO | CTYMETRO   |  0.2256812 |\n",
       "| EDUCAT | EDUCAT     |  0.2130315 |\n",
       "| SEX | SEX        |  0.1421354 |\n",
       "| YEAR | YEAR       |  0.1331589 |\n",
       "\n"
      ],
      "text/plain": [
       "          var       rel.inf   \n",
       "HALUCNG   HALUCNG   34.5456993\n",
       "COCAINE   COCAINE   17.2879423\n",
       "AMPHETMN  AMPHETMN  12.0156335\n",
       "TRQLZRS   TRQLZRS   10.0844533\n",
       "MENTHLTH  MENTHLTH   7.2147968\n",
       "HEROINUSE HEROINUSE  4.1226177\n",
       "TRTMENT   TRTMENT    3.5967053\n",
       "HEROINEVR HEROINEVR  3.5230155\n",
       "SEDATVS   SEDATVS    2.2112590\n",
       "AGECAT    AGECAT     1.8794893\n",
       "MHTRTMT   MHTRTMT    1.3467648\n",
       "HEALTH    HEALTH     0.7848716\n",
       "MARRIED   MARRIED    0.3513962\n",
       "EMPLOY18  EMPLOY18   0.3213484\n",
       "CTYMETRO  CTYMETRO   0.2256812\n",
       "EDUCAT    EDUCAT     0.2130315\n",
       "SEX       SEX        0.1421354\n",
       "YEAR      YEAR       0.1331589"
      ]
     },
     "metadata": {},
     "output_type": "display_data"
    },
    {
     "data": {
      "image/png": "[encoded data removed]",
      "text/plain": [
       "plot without title"
      ]
     },
     "metadata": {},
     "output_type": "display_data"
    }
   ],
   "source": [
    "# divide plot area\n",
    "par(mfrow =c(1,1))\n",
    "summary(gbm1)"
   ]
  },
  {
   "cell_type": "code",
   "execution_count": 86,
   "metadata": {},
   "outputs": [
    {
     "data": {
      "text/plain": [
       "Confusion Matrix and Statistics\n",
       "\n",
       "          Reference\n",
       "Prediction     0     1\n",
       "         0 37435  3415\n",
       "         1   614  1115\n",
       "                                          \n",
       "               Accuracy : 0.9054          \n",
       "                 95% CI : (0.9026, 0.9081)\n",
       "    No Information Rate : 0.8936          \n",
       "    P-Value [Acc > NIR] : 6.296e-16       \n",
       "                                          \n",
       "                  Kappa : 0.3161          \n",
       "                                          \n",
       " Mcnemar's Test P-Value : < 2.2e-16       \n",
       "                                          \n",
       "            Sensitivity : 0.9839          \n",
       "            Specificity : 0.2461          \n",
       "         Pos Pred Value : 0.9164          \n",
       "         Neg Pred Value : 0.6449          \n",
       "             Prevalence : 0.8936          \n",
       "         Detection Rate : 0.8792          \n",
       "   Detection Prevalence : 0.9594          \n",
       "      Balanced Accuracy : 0.6150          \n",
       "                                          \n",
       "       'Positive' Class : 0               \n",
       "                                          "
      ]
     },
     "metadata": {},
     "output_type": "display_data"
    }
   ],
   "source": [
    "# get model predictions\n",
    "pred.gbm1 <- predict(gbm1, test, n.trees=2000, type=\"response\")\n",
    "pred.gbm1 <- replace(pred.gbm1, pred.gbm1>=0.5, 1)\n",
    "pred.gbm1 <- replace(pred.gbm1, pred.gbm1<0.5, 0)\n",
    "\n",
    "# output confusion matrix and error rate for gbm1\n",
    "pred.gbm1 <- as.factor(pred.gbm1)\n",
    "test$PRLMISEVR <- as.factor(test$PRLMISEVR)\n",
    "\n",
    "library(caret)\n",
    "confusionMatrix(pred.gbm1, test$PRLMISEVR)"
   ]
  },
  {
   "cell_type": "code",
   "execution_count": 87,
   "metadata": {},
   "outputs": [
    {
     "data": {
      "text/html": [
       "1743"
      ],
      "text/latex": [
       "1743"
      ],
      "text/markdown": [
       "1743"
      ],
      "text/plain": [
       "[1] 1743"
      ]
     },
     "metadata": {},
     "output_type": "display_data"
    },
    {
     "data": {
      "image/png": "[encoded data removed]",
      "text/plain": [
       "plot without title"
      ]
     },
     "metadata": {},
     "output_type": "display_data"
    }
   ],
   "source": [
    "# plot loss\n",
    "gbm.perf(gbm1, method = \"cv\")"
   ]
  },
  {
   "cell_type": "code",
   "execution_count": 88,
   "metadata": {},
   "outputs": [
    {
     "data": {
      "text/html": [
       "1743"
      ],
      "text/latex": [
       "1743"
      ],
      "text/markdown": [
       "1743"
      ],
      "text/plain": [
       "[1] 1743"
      ]
     },
     "metadata": {},
     "output_type": "display_data"
    }
   ],
   "source": [
    "# build default gbm model\n",
    "gbm1 <- gbm(PRLMISEVR ~ ., data=train, distribution = 'bernoulli',\n",
    "            n.trees=2000,\n",
    "            cv.folds = 3)\n",
    "\n",
    "# find best number of trees\n",
    "best.ntrees <- which.min(gbm1$cv.error)\n",
    "best.ntrees"
   ]
  },
  {
   "cell_type": "code",
   "execution_count": 89,
   "metadata": {},
   "outputs": [],
   "source": [
    "# build default gbm model\n",
    "gbm1 <- gbm(PRLMISEVR ~ ., data=train, distribution = 'bernoulli',\n",
    "            n.trees=2000,\n",
    "            cv.folds = 3)\n",
    "\n",
    "# create parameter grid to find best shrinkage and interaction depth\n",
    "hyper_grid <- expand.grid(\n",
    "  shrinkage = c(.05, .1, .2),\n",
    "  interaction.depth = c(1, 3, 5),\n",
    "  optimal_trees = 0,               \n",
    "  min_loss = 0                     \n",
    ")\n",
    "\n",
    "# grid search \n",
    "for(i in 1:nrow(hyper_grid)) {\n",
    "    set.seed(123)\n",
    "    \n",
    "    # train model\n",
    "    gbm.tune <- gbm(PRLMISEVR ~ ., data=train,\n",
    "                    distribution = \"bernoulli\",\n",
    "                    n.trees = 2000,\n",
    "                    shrinkage = hyper_grid$shrinkage[i],\n",
    "                    interaction.depth = hyper_grid$interaction.depth[i],\n",
    "                    train.fraction = .75,\n",
    "                    cv.folds=2,\n",
    "                    n.cores = NULL, # will use all cores by default\n",
    "                    verbose = FALSE\n",
    "                   )\n",
    "    \n",
    "    # add min training error and trees to grid\n",
    "    hyper_grid$optimal_trees[i] <- which.min(gbm.tune$cv.error)\n",
    "    hyper_grid$min_loss[i] <- min(gbm.tune$cv.error)\n",
    "}\n",
    "\n",
    "# arrange in order of best performance\n",
    "hyper_grid <- hyper_grid %>% arrange(min_loss) %>% head(10)\n",
    "\n",
    "# build optimized gbm model\n",
    "gbm2 <- gbm(PRLMISEVR ~ ., data=train, distribution = 'bernoulli',\n",
    "            n.trees=hyper_grid$optimal_trees[1],\n",
    "            shrinkage=hyper_grid$shrinkage[1],\n",
    "            interaction.depth=hyper_grid$interaction.depth[1],\n",
    "            cv.folds = 3)"
   ]
  },
  {
   "cell_type": "code",
   "execution_count": 90,
   "metadata": {},
   "outputs": [],
   "source": [
    "# grid search \n",
    "for(i in 1:nrow(hyper_grid)) {\n",
    "    set.seed(123)\n",
    "    \n",
    "    # train model\n",
    "    gbm.tune <- gbm(PRLMISEVR ~ ., data=train,\n",
    "                    distribution = \"bernoulli\",\n",
    "                    n.trees = 2000,\n",
    "                    shrinkage = hyper_grid$shrinkage[i],\n",
    "                    interaction.depth = hyper_grid$interaction.depth[i],\n",
    "                    train.fraction = .75,\n",
    "                    cv.folds=2,\n",
    "                    n.cores = NULL, # will use all cores by default\n",
    "                    verbose = FALSE\n",
    "                   )\n",
    "    \n",
    "    # add min training error and trees to grid\n",
    "    hyper_grid$optimal_trees[i] <- which.min(gbm.tune$cv.error)\n",
    "    hyper_grid$min_loss[i] <- min(gbm.tune$cv.error)\n",
    "}\n",
    "\n",
    "hyper_grid <- hyper_grid %>% arrange(min_loss) %>% head(10)"
   ]
  },
  {
   "cell_type": "code",
   "execution_count": 91,
   "metadata": {},
   "outputs": [
    {
     "data": {
      "text/html": [
       "<table>\n",
       "<thead><tr><th scope=col>shrinkage</th><th scope=col>interaction.depth</th><th scope=col>optimal_trees</th><th scope=col>min_loss</th></tr></thead>\n",
       "<tbody>\n",
       "\t<tr><td>0.05     </td><td>5        </td><td>543      </td><td>0.5898498</td></tr>\n",
       "\t<tr><td>0.05     </td><td>3        </td><td>853      </td><td>0.5899293</td></tr>\n",
       "\t<tr><td>0.10     </td><td>3        </td><td>456      </td><td>0.5902036</td></tr>\n",
       "\t<tr><td>0.10     </td><td>5        </td><td>249      </td><td>0.5905598</td></tr>\n",
       "\t<tr><td>0.20     </td><td>3        </td><td>248      </td><td>0.5913094</td></tr>\n",
       "\t<tr><td>0.20     </td><td>5        </td><td> 92      </td><td>0.5919366</td></tr>\n",
       "\t<tr><td>0.05     </td><td>1        </td><td>870      </td><td>0.6046635</td></tr>\n",
       "\t<tr><td>0.10     </td><td>1        </td><td>546      </td><td>0.6046678</td></tr>\n",
       "\t<tr><td>0.20     </td><td>1        </td><td>320      </td><td>0.6046870</td></tr>\n",
       "</tbody>\n",
       "</table>\n"
      ],
      "text/latex": [
       "\\begin{tabular}{r|llll}\n",
       " shrinkage & interaction.depth & optimal\\_trees & min\\_loss\\\\\n",
       "\\hline\n",
       "\t 0.05      & 5         & 543       & 0.5898498\\\\\n",
       "\t 0.05      & 3         & 853       & 0.5899293\\\\\n",
       "\t 0.10      & 3         & 456       & 0.5902036\\\\\n",
       "\t 0.10      & 5         & 249       & 0.5905598\\\\\n",
       "\t 0.20      & 3         & 248       & 0.5913094\\\\\n",
       "\t 0.20      & 5         &  92       & 0.5919366\\\\\n",
       "\t 0.05      & 1         & 870       & 0.6046635\\\\\n",
       "\t 0.10      & 1         & 546       & 0.6046678\\\\\n",
       "\t 0.20      & 1         & 320       & 0.6046870\\\\\n",
       "\\end{tabular}\n"
      ],
      "text/markdown": [
       "\n",
       "| shrinkage | interaction.depth | optimal_trees | min_loss |\n",
       "|---|---|---|---|\n",
       "| 0.05      | 5         | 543       | 0.5898498 |\n",
       "| 0.05      | 3         | 853       | 0.5899293 |\n",
       "| 0.10      | 3         | 456       | 0.5902036 |\n",
       "| 0.10      | 5         | 249       | 0.5905598 |\n",
       "| 0.20      | 3         | 248       | 0.5913094 |\n",
       "| 0.20      | 5         |  92       | 0.5919366 |\n",
       "| 0.05      | 1         | 870       | 0.6046635 |\n",
       "| 0.10      | 1         | 546       | 0.6046678 |\n",
       "| 0.20      | 1         | 320       | 0.6046870 |\n",
       "\n"
      ],
      "text/plain": [
       "  shrinkage interaction.depth optimal_trees min_loss \n",
       "1 0.05      5                 543           0.5898498\n",
       "2 0.05      3                 853           0.5899293\n",
       "3 0.10      3                 456           0.5902036\n",
       "4 0.10      5                 249           0.5905598\n",
       "5 0.20      3                 248           0.5913094\n",
       "6 0.20      5                  92           0.5919366\n",
       "7 0.05      1                 870           0.6046635\n",
       "8 0.10      1                 546           0.6046678\n",
       "9 0.20      1                 320           0.6046870"
      ]
     },
     "metadata": {},
     "output_type": "display_data"
    }
   ],
   "source": [
    "hyper_grid"
   ]
  },
  {
   "cell_type": "code",
   "execution_count": 92,
   "metadata": {},
   "outputs": [],
   "source": [
    "# build optimized gbm model\n",
    "gbm2 <- gbm(PRLMISEVR ~ ., data=train, distribution = 'bernoulli',\n",
    "            n.trees=hyper_grid$optimal_trees[1],\n",
    "            shrinkage=hyper_grid$shrinkage[1],\n",
    "            interaction.depth=hyper_grid$interaction.depth[1],\n",
    "            cv.folds = 3)"
   ]
  },
  {
   "cell_type": "code",
   "execution_count": 93,
   "metadata": {},
   "outputs": [
    {
     "data": {
      "text/plain": [
       "Confusion Matrix and Statistics\n",
       "\n",
       "          Reference\n",
       "Prediction     0     1\n",
       "         0 37436  3338\n",
       "         1   613  1192\n",
       "                                          \n",
       "               Accuracy : 0.9072          \n",
       "                 95% CI : (0.9044, 0.9099)\n",
       "    No Information Rate : 0.8936          \n",
       "    P-Value [Acc > NIR] : < 2.2e-16       \n",
       "                                          \n",
       "                  Kappa : 0.3361          \n",
       "                                          \n",
       " Mcnemar's Test P-Value : < 2.2e-16       \n",
       "                                          \n",
       "            Sensitivity : 0.9839          \n",
       "            Specificity : 0.2631          \n",
       "         Pos Pred Value : 0.9181          \n",
       "         Neg Pred Value : 0.6604          \n",
       "             Prevalence : 0.8936          \n",
       "         Detection Rate : 0.8792          \n",
       "   Detection Prevalence : 0.9576          \n",
       "      Balanced Accuracy : 0.6235          \n",
       "                                          \n",
       "       'Positive' Class : 0               \n",
       "                                          "
      ]
     },
     "metadata": {},
     "output_type": "display_data"
    }
   ],
   "source": [
    "# get model predictions\n",
    "pred.gbm2 <- predict(gbm2, test, n.trees=hyper_grid$optimal_trees[1], type=\"response\")\n",
    "pred.gbm2 <- replace(pred.gbm2, pred.gbm2>=0.5, 1)\n",
    "pred.gbm2 <- replace(pred.gbm2, pred.gbm2<0.5, 0)\n",
    "\n",
    "# output confusion matrix and error rate for gbm2\n",
    "pred.gbm2 <- as.factor(pred.gbm2)\n",
    "confusionMatrix(pred.gbm2, test$PRLMISEVR)"
   ]
  },
  {
   "cell_type": "code",
   "execution_count": 96,
   "metadata": {},
   "outputs": [
    {
     "name": "stdout",
     "output_type": "stream",
     "text": [
      "GBM Error before tuning:  0.09462411 \n",
      "GBM Error after tuning:  0.09279222"
     ]
    }
   ],
   "source": [
    "# get error\n",
    "gbm1.error = mean(pred.gbm1 != test$PRLMISEVR)\n",
    "gbm2.error = mean(pred.gbm2 != test$PRLMISEVR)\n",
    "cat(\"GBM Error before tuning: \", gbm1.error, \"\\n\")\n",
    "cat(\"GBM Error after tuning: \", gbm2.error)"
   ]
  },
  {
   "cell_type": "code",
   "execution_count": null,
   "metadata": {},
   "outputs": [],
   "source": []
  }
 ],
 "metadata": {
  "kernelspec": {
   "display_name": "R",
   "language": "R",
   "name": "ir"
  },
  "language_info": {
   "codemirror_mode": "r",
   "file_extension": ".r",
   "mimetype": "text/x-r-source",
   "name": "R",
   "pygments_lexer": "r",
   "version": "3.6.1"
  }
 },
 "nbformat": 4,
 "nbformat_minor": 4
}
