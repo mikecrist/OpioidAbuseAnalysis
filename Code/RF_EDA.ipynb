{
 "cells": [
  {
   "cell_type": "markdown",
   "metadata": {},
   "source": [
    "Homework 5 Code"
   ]
  },
  {
   "cell_type": "markdown",
   "metadata": {},
   "source": [
    "1) Read data and perform EDA"
   ]
  },
  {
   "cell_type": "code",
   "execution_count": 1,
   "metadata": {},
   "outputs": [
    {
     "data": {
      "text/html": [
       "<table>\n",
       "<thead><tr><th scope=col>YEAR</th><th scope=col>AGECAT</th><th scope=col>SEX</th><th scope=col>MARRIED</th><th scope=col>EDUCAT</th><th scope=col>EMPLOY18</th><th scope=col>CTYMETRO</th><th scope=col>HEALTH</th><th scope=col>MENTHLTH</th><th scope=col>PRLMISEVR</th><th scope=col>...</th><th scope=col>PRLANY</th><th scope=col>HEROINEVR</th><th scope=col>HEROINUSE</th><th scope=col>TRQLZRS</th><th scope=col>SEDATVS</th><th scope=col>COCAINE</th><th scope=col>AMPHETMN</th><th scope=col>HALUCNG</th><th scope=col>TRTMENT</th><th scope=col>MHTRTMT</th></tr></thead>\n",
       "<tbody>\n",
       "\t<tr><td>15 </td><td>3  </td><td>1  </td><td>0  </td><td>2  </td><td>2  </td><td>0  </td><td>3  </td><td>4  </td><td>1  </td><td>...</td><td>10 </td><td>1  </td><td>5  </td><td>5  </td><td>0  </td><td>5  </td><td>2  </td><td>2  </td><td>6  </td><td>0  </td></tr>\n",
       "\t<tr><td>15 </td><td>3  </td><td>0  </td><td>0  </td><td>3  </td><td>1  </td><td>0  </td><td>6  </td><td>7  </td><td>1  </td><td>...</td><td>10 </td><td>1  </td><td>5  </td><td>5  </td><td>0  </td><td>4  </td><td>3  </td><td>5  </td><td>5  </td><td>0  </td></tr>\n",
       "\t<tr><td>15 </td><td>2  </td><td>0  </td><td>0  </td><td>3  </td><td>0  </td><td>0  </td><td>4  </td><td>2  </td><td>1  </td><td>...</td><td> 9 </td><td>1  </td><td>5  </td><td>5  </td><td>0  </td><td>4  </td><td>2  </td><td>3  </td><td>7  </td><td>2  </td></tr>\n",
       "\t<tr><td>15 </td><td>1  </td><td>0  </td><td>0  </td><td>1  </td><td>0  </td><td>0  </td><td>5  </td><td>0  </td><td>1  </td><td>...</td><td> 9 </td><td>1  </td><td>5  </td><td>5  </td><td>0  </td><td>3  </td><td>2  </td><td>2  </td><td>0  </td><td>0  </td></tr>\n",
       "\t<tr><td>15 </td><td>5  </td><td>0  </td><td>0  </td><td>3  </td><td>0  </td><td>0  </td><td>5  </td><td>2  </td><td>1  </td><td>...</td><td> 9 </td><td>1  </td><td>5  </td><td>5  </td><td>3  </td><td>2  </td><td>2  </td><td>2  </td><td>7  </td><td>0  </td></tr>\n",
       "\t<tr><td>15 </td><td>3  </td><td>0  </td><td>0  </td><td>2  </td><td>2  </td><td>0  </td><td>5  </td><td>3  </td><td>1  </td><td>...</td><td> 8 </td><td>1  </td><td>5  </td><td>5  </td><td>0  </td><td>2  </td><td>2  </td><td>4  </td><td>0  </td><td>0  </td></tr>\n",
       "</tbody>\n",
       "</table>\n"
      ],
      "text/latex": [
       "\\begin{tabular}{r|lllllllllllllllllllll}\n",
       " YEAR & AGECAT & SEX & MARRIED & EDUCAT & EMPLOY18 & CTYMETRO & HEALTH & MENTHLTH & PRLMISEVR & ... & PRLANY & HEROINEVR & HEROINUSE & TRQLZRS & SEDATVS & COCAINE & AMPHETMN & HALUCNG & TRTMENT & MHTRTMT\\\\\n",
       "\\hline\n",
       "\t 15  & 3   & 1   & 0   & 2   & 2   & 0   & 3   & 4   & 1   & ... & 10  & 1   & 5   & 5   & 0   & 5   & 2   & 2   & 6   & 0  \\\\\n",
       "\t 15  & 3   & 0   & 0   & 3   & 1   & 0   & 6   & 7   & 1   & ... & 10  & 1   & 5   & 5   & 0   & 4   & 3   & 5   & 5   & 0  \\\\\n",
       "\t 15  & 2   & 0   & 0   & 3   & 0   & 0   & 4   & 2   & 1   & ... &  9  & 1   & 5   & 5   & 0   & 4   & 2   & 3   & 7   & 2  \\\\\n",
       "\t 15  & 1   & 0   & 0   & 1   & 0   & 0   & 5   & 0   & 1   & ... &  9  & 1   & 5   & 5   & 0   & 3   & 2   & 2   & 0   & 0  \\\\\n",
       "\t 15  & 5   & 0   & 0   & 3   & 0   & 0   & 5   & 2   & 1   & ... &  9  & 1   & 5   & 5   & 3   & 2   & 2   & 2   & 7   & 0  \\\\\n",
       "\t 15  & 3   & 0   & 0   & 2   & 2   & 0   & 5   & 3   & 1   & ... &  8  & 1   & 5   & 5   & 0   & 2   & 2   & 4   & 0   & 0  \\\\\n",
       "\\end{tabular}\n"
      ],
      "text/markdown": [
       "\n",
       "| YEAR | AGECAT | SEX | MARRIED | EDUCAT | EMPLOY18 | CTYMETRO | HEALTH | MENTHLTH | PRLMISEVR | ... | PRLANY | HEROINEVR | HEROINUSE | TRQLZRS | SEDATVS | COCAINE | AMPHETMN | HALUCNG | TRTMENT | MHTRTMT |\n",
       "|---|---|---|---|---|---|---|---|---|---|---|---|---|---|---|---|---|---|---|---|---|\n",
       "| 15  | 3   | 1   | 0   | 2   | 2   | 0   | 3   | 4   | 1   | ... | 10  | 1   | 5   | 5   | 0   | 5   | 2   | 2   | 6   | 0   |\n",
       "| 15  | 3   | 0   | 0   | 3   | 1   | 0   | 6   | 7   | 1   | ... | 10  | 1   | 5   | 5   | 0   | 4   | 3   | 5   | 5   | 0   |\n",
       "| 15  | 2   | 0   | 0   | 3   | 0   | 0   | 4   | 2   | 1   | ... |  9  | 1   | 5   | 5   | 0   | 4   | 2   | 3   | 7   | 2   |\n",
       "| 15  | 1   | 0   | 0   | 1   | 0   | 0   | 5   | 0   | 1   | ... |  9  | 1   | 5   | 5   | 0   | 3   | 2   | 2   | 0   | 0   |\n",
       "| 15  | 5   | 0   | 0   | 3   | 0   | 0   | 5   | 2   | 1   | ... |  9  | 1   | 5   | 5   | 3   | 2   | 2   | 2   | 7   | 0   |\n",
       "| 15  | 3   | 0   | 0   | 2   | 2   | 0   | 5   | 3   | 1   | ... |  8  | 1   | 5   | 5   | 0   | 2   | 2   | 4   | 0   | 0   |\n",
       "\n"
      ],
      "text/plain": [
       "  YEAR AGECAT SEX MARRIED EDUCAT EMPLOY18 CTYMETRO HEALTH MENTHLTH PRLMISEVR\n",
       "1 15   3      1   0       2      2        0        3      4        1        \n",
       "2 15   3      0   0       3      1        0        6      7        1        \n",
       "3 15   2      0   0       3      0        0        4      2        1        \n",
       "4 15   1      0   0       1      0        0        5      0        1        \n",
       "5 15   5      0   0       3      0        0        5      2        1        \n",
       "6 15   3      0   0       2      2        0        5      3        1        \n",
       "  ... PRLANY HEROINEVR HEROINUSE TRQLZRS SEDATVS COCAINE AMPHETMN HALUCNG\n",
       "1 ... 10     1         5         5       0       5       2        2      \n",
       "2 ... 10     1         5         5       0       4       3        5      \n",
       "3 ...  9     1         5         5       0       4       2        3      \n",
       "4 ...  9     1         5         5       0       3       2        2      \n",
       "5 ...  9     1         5         5       3       2       2        2      \n",
       "6 ...  8     1         5         5       0       2       2        4      \n",
       "  TRTMENT MHTRTMT\n",
       "1 6       0      \n",
       "2 5       0      \n",
       "3 7       2      \n",
       "4 0       0      \n",
       "5 7       0      \n",
       "6 0       0      "
      ]
     },
     "metadata": {},
     "output_type": "display_data"
    }
   ],
   "source": [
    "# read data\n",
    "data = read.csv(\"prlmis-data-full.csv\", header=TRUE, fileEncoding=\"UTF-8-BOM\")\n",
    "head(data)"
   ]
  },
  {
   "cell_type": "code",
   "execution_count": 2,
   "metadata": {},
   "outputs": [
    {
     "name": "stderr",
     "output_type": "stream",
     "text": [
      "Warning message:\n",
      "\"package 'dplyr' was built under R version 3.6.3\"\n",
      "Attaching package: 'dplyr'\n",
      "\n",
      "The following objects are masked from 'package:stats':\n",
      "\n",
      "    filter, lag\n",
      "\n",
      "The following objects are masked from 'package:base':\n",
      "\n",
      "    intersect, setdiff, setequal, union\n",
      "\n"
     ]
    },
    {
     "data": {
      "text/html": [
       "<ol class=list-inline>\n",
       "\t<li>170317</li>\n",
       "\t<li>19</li>\n",
       "</ol>\n"
      ],
      "text/latex": [
       "\\begin{enumerate*}\n",
       "\\item 170317\n",
       "\\item 19\n",
       "\\end{enumerate*}\n"
      ],
      "text/markdown": [
       "1. 170317\n",
       "2. 19\n",
       "\n",
       "\n"
      ],
      "text/plain": [
       "[1] 170317     19"
      ]
     },
     "metadata": {},
     "output_type": "display_data"
    }
   ],
   "source": [
    "library(dplyr)\n",
    "\n",
    "# remove alternate response variables\n",
    "data = select(data, -c(\"PRLANY\",\"PRLMISAB\"))\n",
    "\n",
    "# get data dimensions\n",
    "dim(data)"
   ]
  },
  {
   "cell_type": "code",
   "execution_count": 3,
   "metadata": {},
   "outputs": [
    {
     "data": {
      "text/html": [
       "<table>\n",
       "<thead><tr><th scope=col>YEAR</th><th scope=col>AGECAT</th><th scope=col>SEX</th><th scope=col>MARRIED</th><th scope=col>EDUCAT</th><th scope=col>EMPLOY18</th><th scope=col>CTYMETRO</th><th scope=col>HEALTH</th><th scope=col>MENTHLTH</th><th scope=col>PRLMISEVR</th><th scope=col>HEROINEVR</th><th scope=col>HEROINUSE</th><th scope=col>TRQLZRS</th><th scope=col>SEDATVS</th><th scope=col>COCAINE</th><th scope=col>AMPHETMN</th><th scope=col>HALUCNG</th><th scope=col>TRTMENT</th><th scope=col>MHTRTMT</th></tr></thead>\n",
       "<tbody>\n",
       "\t<tr><td>2015      </td><td>26-35     </td><td>Female    </td><td>Unmarried </td><td>Some HS   </td><td>Full-Time </td><td>na        </td><td>3         </td><td>4         </td><td>1         </td><td>1         </td><td>5         </td><td>5         </td><td>0         </td><td>5         </td><td>2         </td><td>2         </td><td>6         </td><td>0         </td></tr>\n",
       "\t<tr><td>2015      </td><td>26-35     </td><td>Male      </td><td>Unmarried </td><td>HS grad   </td><td>Part-Time </td><td>na        </td><td>6         </td><td>7         </td><td>1         </td><td>1         </td><td>5         </td><td>5         </td><td>0         </td><td>4         </td><td>3         </td><td>5         </td><td>5         </td><td>0         </td></tr>\n",
       "\t<tr><td>2015      </td><td>18-25     </td><td>Male      </td><td>Unmarried </td><td>HS grad   </td><td>Unemployed</td><td>na        </td><td>4         </td><td>2         </td><td>1         </td><td>1         </td><td>5         </td><td>5         </td><td>0         </td><td>4         </td><td>2         </td><td>3         </td><td>7         </td><td>2         </td></tr>\n",
       "\t<tr><td>2015      </td><td>12-17     </td><td>Male      </td><td>Unmarried </td><td>School Age</td><td>Unemployed</td><td>na        </td><td>5         </td><td>0         </td><td>1         </td><td>1         </td><td>5         </td><td>5         </td><td>0         </td><td>3         </td><td>2         </td><td>2         </td><td>0         </td><td>0         </td></tr>\n",
       "\t<tr><td>2015      </td><td>50+       </td><td>Male      </td><td>Unmarried </td><td>HS grad   </td><td>Unemployed</td><td>na        </td><td>5         </td><td>2         </td><td>1         </td><td>1         </td><td>5         </td><td>5         </td><td>3         </td><td>2         </td><td>2         </td><td>2         </td><td>7         </td><td>0         </td></tr>\n",
       "\t<tr><td>2015      </td><td>26-35     </td><td>Male      </td><td>Unmarried </td><td>Some HS   </td><td>Full-Time </td><td>na        </td><td>5         </td><td>3         </td><td>1         </td><td>1         </td><td>5         </td><td>5         </td><td>0         </td><td>2         </td><td>2         </td><td>4         </td><td>0         </td><td>0         </td></tr>\n",
       "</tbody>\n",
       "</table>\n"
      ],
      "text/latex": [
       "\\begin{tabular}{r|lllllllllllllllllll}\n",
       " YEAR & AGECAT & SEX & MARRIED & EDUCAT & EMPLOY18 & CTYMETRO & HEALTH & MENTHLTH & PRLMISEVR & HEROINEVR & HEROINUSE & TRQLZRS & SEDATVS & COCAINE & AMPHETMN & HALUCNG & TRTMENT & MHTRTMT\\\\\n",
       "\\hline\n",
       "\t 2015       & 26-35      & Female     & Unmarried  & Some HS    & Full-Time  & na         & 3          & 4          & 1          & 1          & 5          & 5          & 0          & 5          & 2          & 2          & 6          & 0         \\\\\n",
       "\t 2015       & 26-35      & Male       & Unmarried  & HS grad    & Part-Time  & na         & 6          & 7          & 1          & 1          & 5          & 5          & 0          & 4          & 3          & 5          & 5          & 0         \\\\\n",
       "\t 2015       & 18-25      & Male       & Unmarried  & HS grad    & Unemployed & na         & 4          & 2          & 1          & 1          & 5          & 5          & 0          & 4          & 2          & 3          & 7          & 2         \\\\\n",
       "\t 2015       & 12-17      & Male       & Unmarried  & School Age & Unemployed & na         & 5          & 0          & 1          & 1          & 5          & 5          & 0          & 3          & 2          & 2          & 0          & 0         \\\\\n",
       "\t 2015       & 50+        & Male       & Unmarried  & HS grad    & Unemployed & na         & 5          & 2          & 1          & 1          & 5          & 5          & 3          & 2          & 2          & 2          & 7          & 0         \\\\\n",
       "\t 2015       & 26-35      & Male       & Unmarried  & Some HS    & Full-Time  & na         & 5          & 3          & 1          & 1          & 5          & 5          & 0          & 2          & 2          & 4          & 0          & 0         \\\\\n",
       "\\end{tabular}\n"
      ],
      "text/markdown": [
       "\n",
       "| YEAR | AGECAT | SEX | MARRIED | EDUCAT | EMPLOY18 | CTYMETRO | HEALTH | MENTHLTH | PRLMISEVR | HEROINEVR | HEROINUSE | TRQLZRS | SEDATVS | COCAINE | AMPHETMN | HALUCNG | TRTMENT | MHTRTMT |\n",
       "|---|---|---|---|---|---|---|---|---|---|---|---|---|---|---|---|---|---|---|\n",
       "| 2015       | 26-35      | Female     | Unmarried  | Some HS    | Full-Time  | na         | 3          | 4          | 1          | 1          | 5          | 5          | 0          | 5          | 2          | 2          | 6          | 0          |\n",
       "| 2015       | 26-35      | Male       | Unmarried  | HS grad    | Part-Time  | na         | 6          | 7          | 1          | 1          | 5          | 5          | 0          | 4          | 3          | 5          | 5          | 0          |\n",
       "| 2015       | 18-25      | Male       | Unmarried  | HS grad    | Unemployed | na         | 4          | 2          | 1          | 1          | 5          | 5          | 0          | 4          | 2          | 3          | 7          | 2          |\n",
       "| 2015       | 12-17      | Male       | Unmarried  | School Age | Unemployed | na         | 5          | 0          | 1          | 1          | 5          | 5          | 0          | 3          | 2          | 2          | 0          | 0          |\n",
       "| 2015       | 50+        | Male       | Unmarried  | HS grad    | Unemployed | na         | 5          | 2          | 1          | 1          | 5          | 5          | 3          | 2          | 2          | 2          | 7          | 0          |\n",
       "| 2015       | 26-35      | Male       | Unmarried  | Some HS    | Full-Time  | na         | 5          | 3          | 1          | 1          | 5          | 5          | 0          | 2          | 2          | 4          | 0          | 0          |\n",
       "\n"
      ],
      "text/plain": [
       "  YEAR AGECAT SEX    MARRIED   EDUCAT     EMPLOY18   CTYMETRO HEALTH MENTHLTH\n",
       "1 2015 26-35  Female Unmarried Some HS    Full-Time  na       3      4       \n",
       "2 2015 26-35  Male   Unmarried HS grad    Part-Time  na       6      7       \n",
       "3 2015 18-25  Male   Unmarried HS grad    Unemployed na       4      2       \n",
       "4 2015 12-17  Male   Unmarried School Age Unemployed na       5      0       \n",
       "5 2015 50+    Male   Unmarried HS grad    Unemployed na       5      2       \n",
       "6 2015 26-35  Male   Unmarried Some HS    Full-Time  na       5      3       \n",
       "  PRLMISEVR HEROINEVR HEROINUSE TRQLZRS SEDATVS COCAINE AMPHETMN HALUCNG\n",
       "1 1         1         5         5       0       5       2        2      \n",
       "2 1         1         5         5       0       4       3        5      \n",
       "3 1         1         5         5       0       4       2        3      \n",
       "4 1         1         5         5       0       3       2        2      \n",
       "5 1         1         5         5       3       2       2        2      \n",
       "6 1         1         5         5       0       2       2        4      \n",
       "  TRTMENT MHTRTMT\n",
       "1 6       0      \n",
       "2 5       0      \n",
       "3 7       2      \n",
       "4 0       0      \n",
       "5 7       0      \n",
       "6 0       0      "
      ]
     },
     "metadata": {},
     "output_type": "display_data"
    },
    {
     "name": "stdout",
     "output_type": "stream",
     "text": [
      "'data.frame':\t170317 obs. of  19 variables:\n",
      " $ YEAR     : Factor w/ 3 levels \"2015\",\"2016\",..: 1 1 1 1 1 1 1 1 1 1 ...\n",
      " $ AGECAT   : Factor w/ 5 levels \"12-17\",\"18-25\",..: 3 3 2 1 5 3 3 3 3 2 ...\n",
      " $ SEX      : Factor w/ 2 levels \"Female\",\"Male\": 1 2 2 2 2 2 2 2 1 2 ...\n",
      " $ MARRIED  : Factor w/ 4 levels \"Divorced\",\"Married\",..: 3 3 3 3 3 3 3 3 3 3 ...\n",
      " $ EDUCAT   : Factor w/ 5 levels \"College Grad\",..: 5 2 2 3 2 5 5 1 4 4 ...\n",
      " $ EMPLOY18 : Factor w/ 3 levels \"Full-Time\",\"Part-Time\",..: 1 2 3 3 3 1 3 3 3 2 ...\n",
      " $ CTYMETRO : Factor w/ 4 levels \"Large\",\"na\",\"Rural\",..: 2 2 2 2 2 2 2 2 2 2 ...\n",
      " $ HEALTH   : int  3 6 4 5 5 5 1 3 6 5 ...\n",
      " $ MENTHLTH : int  4 7 2 0 2 3 0 0 6 10 ...\n",
      " $ PRLMISEVR: Factor w/ 2 levels \"0\",\"1\": 2 2 2 2 2 2 2 2 2 2 ...\n",
      " $ HEROINEVR: Factor w/ 2 levels \"0\",\"1\": 2 2 2 2 2 2 2 2 2 2 ...\n",
      " $ HEROINUSE: int  5 5 5 5 5 5 5 5 5 5 ...\n",
      " $ TRQLZRS  : int  5 5 5 5 5 5 4 0 3 5 ...\n",
      " $ SEDATVS  : int  0 0 0 0 3 0 0 0 0 0 ...\n",
      " $ COCAINE  : int  5 4 4 3 2 2 5 3 5 4 ...\n",
      " $ AMPHETMN : int  2 3 2 2 2 2 4 1 2 3 ...\n",
      " $ HALUCNG  : int  2 5 3 2 2 4 3 0 2 5 ...\n",
      " $ TRTMENT  : int  6 5 7 0 7 0 0 0 8 6 ...\n",
      " $ MHTRTMT  : int  0 0 2 0 0 0 0 0 0 0 ...\n"
     ]
    }
   ],
   "source": [
    "# update categorical values from raw dataset to be descriptive\n",
    "data$YEAR <- replace(data$YEAR, data$YEAR==\"15\", \"2015\")\n",
    "data$YEAR <- replace(data$YEAR, data$YEAR==\"16\", \"2016\")\n",
    "data$YEAR <- replace(data$YEAR, data$YEAR==\"17\", \"2017\")\n",
    "\n",
    "data$AGECAT <- replace(data$AGECAT, data$AGECAT==\"1\", \"12-17\")\n",
    "data$AGECAT <- replace(data$AGECAT, data$AGECAT==\"2\", \"18-25\")\n",
    "data$AGECAT <- replace(data$AGECAT, data$AGECAT==\"3\", \"26-35\")\n",
    "data$AGECAT <- replace(data$AGECAT, data$AGECAT==\"4\", \"36-49\")\n",
    "data$AGECAT <- replace(data$AGECAT, data$AGECAT==\"5\", \"50+\")\n",
    "\n",
    "data$SEX <- replace(data$SEX, data$SEX==\"0\", \"Male\")\n",
    "data$SEX <- replace(data$SEX, data$SEX==\"1\", \"Female\")\n",
    "\n",
    "data$MARRIED <- replace(data$MARRIED, data$MARRIED==\"0\", \"Unmarried\")\n",
    "data$MARRIED <- replace(data$MARRIED, data$MARRIED==\"1\", \"Divorced\")\n",
    "data$MARRIED <- replace(data$MARRIED, data$MARRIED==\"2\", \"Widowed\")\n",
    "data$MARRIED <- replace(data$MARRIED, data$MARRIED==\"3\", \"Married\")\n",
    "data$MARRIED <- replace(data$MARRIED, data$MARRIED==\"4\", \"Married\")\n",
    "\n",
    "data$EDUCAT <- replace(data$EDUCAT, data$EDUCAT==\"1\", \"School Age\")\n",
    "data$EDUCAT <- replace(data$EDUCAT, data$EDUCAT==\"2\", \"Some HS\")\n",
    "data$EDUCAT <- replace(data$EDUCAT, data$EDUCAT==\"3\", \"HS grad\")\n",
    "data$EDUCAT <- replace(data$EDUCAT, data$EDUCAT==\"4\", \"Some College\")\n",
    "data$EDUCAT <- replace(data$EDUCAT, data$EDUCAT==\"5\", \"College Grad\")\n",
    "\n",
    "data$EMPLOY18 <- replace(data$EMPLOY18, data$EMPLOY18==\"0\", \"Unemployed\")\n",
    "data$EMPLOY18 <- replace(data$EMPLOY18, data$EMPLOY18==\"1\", \"Part-Time\")\n",
    "data$EMPLOY18 <- replace(data$EMPLOY18, data$EMPLOY18==\"2\", \"Full-Time\")\n",
    "\n",
    "# wrong\n",
    "data$CTYMETRO <- replace(data$CTYMETRO, data$CTYMETRO==\"1\", \"Rural\")\n",
    "data$CTYMETRO <- replace(data$CTYMETRO, data$CTYMETRO==\"2\", \"Small\")\n",
    "data$CTYMETRO <- replace(data$CTYMETRO, data$CTYMETRO==\"3\", \"Large\")\n",
    "data$CTYMETRO <- replace(data$CTYMETRO, data$CTYMETRO==\"0\", \"na\")\n",
    "\n",
    "# convert categorical variables to factors\n",
    "data$YEAR<-as.factor(data$YEAR)\n",
    "data$AGECAT<-as.factor(data$AGECAT)\n",
    "data$SEX<-as.factor(data$SEX)\n",
    "data$MARRIED<-as.factor(data$MARRIED)\n",
    "data$EDUCAT<-as.factor(data$EDUCAT)\n",
    "data$EMPLOY18<-as.factor(data$EMPLOY18)\n",
    "data$CTYMETRO<-as.factor(data$CTYMETRO)\n",
    "data$PRLMISEVR<-as.factor(data$PRLMISEVR)\n",
    "data$HEROINEVR<-as.factor(data$HEROINEVR)\n",
    "\n",
    "head(data)\n",
    "str(data)"
   ]
  },
  {
   "cell_type": "code",
   "execution_count": 4,
   "metadata": {},
   "outputs": [
    {
     "data": {
      "text/plain": [
       "   YEAR         AGECAT          SEX             MARRIED     \n",
       " 2015:57146   12-17:41577   Female:89404   Divorced :52680  \n",
       " 2016:56895   18-25:42053   Male  :80913   Married  :37618  \n",
       " 2017:56276   26-35:26621                  Unmarried:70799  \n",
       "              36-49:33744                  Widowed  : 9220  \n",
       "              50+  :26322                                   \n",
       "                                                            \n",
       "          EDUCAT            EMPLOY18      CTYMETRO         HEALTH    \n",
       " College Grad:33973   Full-Time :66589   Large:50760   Min.   :0.00  \n",
       " HS grad     :34357   Part-Time :20349   na   :57146   1st Qu.:2.00  \n",
       " School Age  :41577   Unemployed:83379   Rural:22695   Median :2.00  \n",
       " Some College:43227                      Small:39716   Mean   :2.33  \n",
       " Some HS     :17183                                    3rd Qu.:3.00  \n",
       "                                                       Max.   :7.00  \n",
       "    MENTHLTH       PRLMISEVR  HEROINEVR    HEROINUSE          TRQLZRS     \n",
       " Min.   : 0.0000   0:152080   0:166884   Min.   :0.00000   Min.   :0.000  \n",
       " 1st Qu.: 0.0000   1: 18237   1:  3433   1st Qu.:0.00000   1st Qu.:0.000  \n",
       " Median : 0.0000                         Median :0.00000   Median :0.000  \n",
       " Mean   : 0.9507                         Mean   :0.03139   Mean   :0.224  \n",
       " 3rd Qu.: 1.0000                         3rd Qu.:0.00000   3rd Qu.:0.000  \n",
       " Max.   :10.0000                         Max.   :5.00000   Max.   :5.000  \n",
       "    SEDATVS          COCAINE          AMPHETMN         HALUCNG      \n",
       " Min.   :0.0000   Min.   :0.0000   Min.   :0.0000   Min.   :0.0000  \n",
       " 1st Qu.:0.0000   1st Qu.:0.0000   1st Qu.:0.0000   1st Qu.:0.0000  \n",
       " Median :0.0000   Median :0.0000   Median :0.0000   Median :0.0000  \n",
       " Mean   :0.0513   Mean   :0.1795   Mean   :0.1538   Mean   :0.3279  \n",
       " 3rd Qu.:0.0000   3rd Qu.:0.0000   3rd Qu.:0.0000   3rd Qu.:0.0000  \n",
       " Max.   :5.0000   Max.   :5.0000   Max.   :5.0000   Max.   :5.0000  \n",
       "    TRTMENT            MHTRTMT      \n",
       " Min.   : 0.00000   Min.   :0.0000  \n",
       " 1st Qu.: 0.00000   1st Qu.:0.0000  \n",
       " Median : 0.00000   Median :0.0000  \n",
       " Mean   : 0.06113   Mean   :0.2088  \n",
       " 3rd Qu.: 0.00000   3rd Qu.:0.0000  \n",
       " Max.   :10.00000   Max.   :8.0000  "
      ]
     },
     "metadata": {},
     "output_type": "display_data"
    }
   ],
   "source": [
    "summary(data)"
   ]
  },
  {
   "cell_type": "code",
   "execution_count": 26,
   "metadata": {},
   "outputs": [
    {
     "data": {
      "image/png": "[encoded data removed]",
      "text/plain": [
       "Plot with title \"\""
      ]
     },
     "metadata": {},
     "output_type": "display_data"
    },
    {
     "data": {
      "image/png": "[encoded data removed]",
      "text/plain": [
       "Plot with title \"\""
      ]
     },
     "metadata": {},
     "output_type": "display_data"
    },
    {
     "data": {
      "image/png": "[encoded data removed]",
      "text/plain": [
       "Plot with title \"\""
      ]
     },
     "metadata": {},
     "output_type": "display_data"
    }
   ],
   "source": [
    "# divide plot area\n",
    "par(mfrow =c(1,2))\n",
    "\n",
    "# explore categorical variable relationships\n",
    "mis_age = xtabs(~PRLMISEVR+AGECAT, data=data)\n",
    "barplot(prop.table(mis_age), axes=T, space=0.3, horiz=T,\n",
    "        xlab=\"Proportion of Data\",\n",
    "        ylab=\"Age Group\",\n",
    "        main=\"\",\n",
    "        col=c(\"blue\",\"red\"), legend.text=c(\"No Misuse\",\"Misuse\"))\n",
    "mis_sex = xtabs(~PRLMISEVR+SEX, data=data)\n",
    "barplot(prop.table(mis_sex), axes=T, space=0.3, horiz=T,\n",
    "        xlab=\"Proportion of Data\",\n",
    "        ylab=\"Sex\",\n",
    "        main=\"\",\n",
    "        col=c(\"blue\",\"red\"), legend.text=c(\"No Misuse\",\"Misuse\"))\n",
    "mis_married = xtabs(~PRLMISEVR+MARRIED, data=data)\n",
    "barplot(prop.table(mis_married), axes=T, space=0.3, horiz=T,\n",
    "        xlab=\"Proportion of Data\",\n",
    "        ylab=\"Marital Status\",\n",
    "        main=\"\",\n",
    "        col=c(\"blue\",\"red\"), legend.text=c(\"No Misuse\",\"Misuse\"))\n",
    "mis_educat = xtabs(~PRLMISEVR+EDUCAT, data=data)\n",
    "barplot(prop.table(mis_educat), axes=T, space=0.3, horiz=T,\n",
    "        xlab=\"Proportion of Data\",\n",
    "        ylab=\"Education Level\",\n",
    "        main=\"\",\n",
    "        col=c(\"blue\",\"red\"), legend.text=c(\"No Misuse\",\"Misuse\"))\n",
    "mis_employ18 = xtabs(~PRLMISEVR+EMPLOY18, data=data)\n",
    "barplot(prop.table(mis_employ18), axes=T, space=0.3, horiz=T,\n",
    "        xlab=\"Proportion of Data\",\n",
    "        ylab=\"Employment Status\",\n",
    "        main=\"\",\n",
    "        col=c(\"blue\",\"red\"), legend.text=c(\"No Misuse\",\"Misuse\"))"
   ]
  },
  {
   "cell_type": "code",
   "execution_count": 6,
   "metadata": {},
   "outputs": [
    {
     "name": "stderr",
     "output_type": "stream",
     "text": [
      "Warning message:\n",
      "\"package 'corrplot' was built under R version 3.6.3\"corrplot 0.88 loaded\n",
      "Warning message:\n",
      "\"package 'RColorBrewer' was built under R version 3.6.3\""
     ]
    },
    {
     "data": {
      "image/png": "[encoded data removed]",
      "text/plain": [
       "Plot with title \"\""
      ]
     },
     "metadata": {},
     "output_type": "display_data"
    }
   ],
   "source": [
    "# correlation matrix of numerical data\n",
    "library(corrplot)\n",
    "library(RColorBrewer)\n",
    "data.numeric <- data[,c('HEALTH', 'MENTHLTH', 'HEROINUSE', 'TRQLZRS', \n",
    "                        'SEDATVS', 'COCAINE', 'AMPHETMN', 'HALUCNG', 'TRTMENT', 'MHTRTMT')]\n",
    "M <-cor(data.numeric)\n",
    "corrplot(M, type=\"upper\", order=\"original\",\n",
    "         col=brewer.pal(n=8, name=\"RdYlBu\"))"
   ]
  },
  {
   "cell_type": "code",
   "execution_count": 7,
   "metadata": {},
   "outputs": [
    {
     "data": {
      "image/png": "[encoded data removed]",
      "text/plain": [
       "Plot with title \"\""
      ]
     },
     "metadata": {},
     "output_type": "display_data"
    },
    {
     "data": {
      "image/png": "[encoded data removed]",
      "text/plain": [
       "Plot with title \"\""
      ]
     },
     "metadata": {},
     "output_type": "display_data"
    }
   ],
   "source": [
    "# divide plot area\n",
    "par(mfrow =c(2,3))\n",
    "\n",
    "# histograms of numeric data\n",
    "hist(data$HEALTH, main='')\n",
    "hist(data$MENTHLTH, main='')\n",
    "hist(data$HEROINUSE, main='')\n",
    "hist(data$TRQLZRS, main='')\n",
    "hist(data$SEDATVS, main='')\n",
    "hist(data$COCAINE, main='')\n",
    "hist(data$AMPHETMN, main='')\n",
    "hist(data$HALUCNG, main='')\n",
    "hist(data$TRTMENT, main='')\n",
    "hist(data$MHTRTMT, main='')"
   ]
  },
  {
   "cell_type": "markdown",
   "metadata": {},
   "source": [
    "2) Split data into train/test sets"
   ]
  },
  {
   "cell_type": "code",
   "execution_count": 8,
   "metadata": {},
   "outputs": [
    {
     "data": {
      "text/html": [
       "<ol class=list-inline>\n",
       "\t<li>127738</li>\n",
       "\t<li>19</li>\n",
       "</ol>\n"
      ],
      "text/latex": [
       "\\begin{enumerate*}\n",
       "\\item 127738\n",
       "\\item 19\n",
       "\\end{enumerate*}\n"
      ],
      "text/markdown": [
       "1. 127738\n",
       "2. 19\n",
       "\n",
       "\n"
      ],
      "text/plain": [
       "[1] 127738     19"
      ]
     },
     "metadata": {},
     "output_type": "display_data"
    },
    {
     "data": {
      "text/html": [
       "<ol class=list-inline>\n",
       "\t<li>42579</li>\n",
       "\t<li>19</li>\n",
       "</ol>\n"
      ],
      "text/latex": [
       "\\begin{enumerate*}\n",
       "\\item 42579\n",
       "\\item 19\n",
       "\\end{enumerate*}\n"
      ],
      "text/markdown": [
       "1. 42579\n",
       "2. 19\n",
       "\n",
       "\n"
      ],
      "text/plain": [
       "[1] 42579    19"
      ]
     },
     "metadata": {},
     "output_type": "display_data"
    }
   ],
   "source": [
    "# train/test split\n",
    "set.seed(123)\n",
    "\n",
    "fractrain = 0.75\n",
    "fractest = 1-fractrain\n",
    "flag <- sort(sample(dim(data)[1], dim(data)[1]*fractest, replace = FALSE))\n",
    "train <- data[-flag,]\n",
    "test <- data[flag,]\n",
    "dim(train)\n",
    "dim(test)"
   ]
  },
  {
   "cell_type": "markdown",
   "metadata": {},
   "source": [
    "3) Random Forest Model Training and Evaluation"
   ]
  },
  {
   "cell_type": "code",
   "execution_count": 9,
   "metadata": {},
   "outputs": [
    {
     "name": "stderr",
     "output_type": "stream",
     "text": [
      "randomForest 4.6-14\n",
      "Type rfNews() to see new features/changes/bug fixes.\n",
      "\n",
      "Attaching package: 'randomForest'\n",
      "\n",
      "The following object is masked from 'package:dplyr':\n",
      "\n",
      "    combine\n",
      "\n"
     ]
    }
   ],
   "source": [
    "library(randomForest)"
   ]
  },
  {
   "cell_type": "code",
   "execution_count": 10,
   "metadata": {},
   "outputs": [],
   "source": [
    "# build random forest model with default parameters\n",
    "rf1 <- randomForest(PRLMISEVR ~ ., data = train, importance=TRUE)"
   ]
  },
  {
   "cell_type": "code",
   "execution_count": 11,
   "metadata": {},
   "outputs": [
    {
     "data": {
      "text/html": [
       "<table>\n",
       "<thead><tr><th></th><th scope=col>0</th><th scope=col>1</th><th scope=col>MeanDecreaseAccuracy</th><th scope=col>MeanDecreaseGini</th></tr></thead>\n",
       "<tbody>\n",
       "\t<tr><th scope=row>YEAR</th><td>26.291074 </td><td> -8.697044</td><td>20.22308  </td><td> 479.0895 </td></tr>\n",
       "\t<tr><th scope=row>AGECAT</th><td>45.906068 </td><td> 23.110366</td><td>63.70537  </td><td> 873.3091 </td></tr>\n",
       "\t<tr><th scope=row>SEX</th><td> 4.864025 </td><td> 13.747684</td><td>11.96225  </td><td> 378.7788 </td></tr>\n",
       "\t<tr><th scope=row>MARRIED</th><td>46.979326 </td><td> -8.187190</td><td>43.41210  </td><td> 588.2207 </td></tr>\n",
       "\t<tr><th scope=row>EDUCAT</th><td>24.595180 </td><td>  1.721821</td><td>27.22875  </td><td> 925.7046 </td></tr>\n",
       "\t<tr><th scope=row>EMPLOY18</th><td>20.199428 </td><td>  5.337514</td><td>21.84657  </td><td> 596.6656 </td></tr>\n",
       "\t<tr><th scope=row>CTYMETRO</th><td>26.285285 </td><td> -5.554436</td><td>22.15878  </td><td> 703.0472 </td></tr>\n",
       "\t<tr><th scope=row>HEALTH</th><td>20.066830 </td><td>  4.764514</td><td>20.32546  </td><td> 984.1040 </td></tr>\n",
       "\t<tr><th scope=row>MENTHLTH</th><td> 4.551776 </td><td> 72.999910</td><td>23.98951  </td><td>1252.3635 </td></tr>\n",
       "\t<tr><th scope=row>HEROINEVR</th><td>20.911907 </td><td> 24.668068</td><td>26.37380  </td><td> 352.6402 </td></tr>\n",
       "\t<tr><th scope=row>HEROINUSE</th><td>22.493401 </td><td> 35.612718</td><td>31.18089  </td><td> 469.9125 </td></tr>\n",
       "\t<tr><th scope=row>TRQLZRS</th><td>36.031924 </td><td>117.091061</td><td>82.09216  </td><td> 873.6242 </td></tr>\n",
       "\t<tr><th scope=row>SEDATVS</th><td>26.467948 </td><td> 21.120509</td><td>32.96553  </td><td> 217.2904 </td></tr>\n",
       "\t<tr><th scope=row>COCAINE</th><td>28.364911 </td><td> 81.925740</td><td>55.33638  </td><td>1497.5291 </td></tr>\n",
       "\t<tr><th scope=row>AMPHETMN</th><td>44.347992 </td><td> 79.918537</td><td>79.98630  </td><td>1039.2713 </td></tr>\n",
       "\t<tr><th scope=row>HALUCNG</th><td>30.482200 </td><td>122.146321</td><td>89.35063  </td><td>2073.0761 </td></tr>\n",
       "\t<tr><th scope=row>TRTMENT</th><td>52.180608 </td><td> 43.215289</td><td>66.77813  </td><td> 327.9910 </td></tr>\n",
       "\t<tr><th scope=row>MHTRTMT</th><td>14.232819 </td><td>  3.484320</td><td>15.27564  </td><td> 580.2845 </td></tr>\n",
       "</tbody>\n",
       "</table>\n"
      ],
      "text/latex": [
       "\\begin{tabular}{r|llll}\n",
       "  & 0 & 1 & MeanDecreaseAccuracy & MeanDecreaseGini\\\\\n",
       "\\hline\n",
       "\tYEAR & 26.291074  &  -8.697044 & 20.22308   &  479.0895 \\\\\n",
       "\tAGECAT & 45.906068  &  23.110366 & 63.70537   &  873.3091 \\\\\n",
       "\tSEX &  4.864025  &  13.747684 & 11.96225   &  378.7788 \\\\\n",
       "\tMARRIED & 46.979326  &  -8.187190 & 43.41210   &  588.2207 \\\\\n",
       "\tEDUCAT & 24.595180  &   1.721821 & 27.22875   &  925.7046 \\\\\n",
       "\tEMPLOY18 & 20.199428  &   5.337514 & 21.84657   &  596.6656 \\\\\n",
       "\tCTYMETRO & 26.285285  &  -5.554436 & 22.15878   &  703.0472 \\\\\n",
       "\tHEALTH & 20.066830  &   4.764514 & 20.32546   &  984.1040 \\\\\n",
       "\tMENTHLTH &  4.551776  &  72.999910 & 23.98951   & 1252.3635 \\\\\n",
       "\tHEROINEVR & 20.911907  &  24.668068 & 26.37380   &  352.6402 \\\\\n",
       "\tHEROINUSE & 22.493401  &  35.612718 & 31.18089   &  469.9125 \\\\\n",
       "\tTRQLZRS & 36.031924  & 117.091061 & 82.09216   &  873.6242 \\\\\n",
       "\tSEDATVS & 26.467948  &  21.120509 & 32.96553   &  217.2904 \\\\\n",
       "\tCOCAINE & 28.364911  &  81.925740 & 55.33638   & 1497.5291 \\\\\n",
       "\tAMPHETMN & 44.347992  &  79.918537 & 79.98630   & 1039.2713 \\\\\n",
       "\tHALUCNG & 30.482200  & 122.146321 & 89.35063   & 2073.0761 \\\\\n",
       "\tTRTMENT & 52.180608  &  43.215289 & 66.77813   &  327.9910 \\\\\n",
       "\tMHTRTMT & 14.232819  &   3.484320 & 15.27564   &  580.2845 \\\\\n",
       "\\end{tabular}\n"
      ],
      "text/markdown": [
       "\n",
       "| <!--/--> | 0 | 1 | MeanDecreaseAccuracy | MeanDecreaseGini |\n",
       "|---|---|---|---|---|\n",
       "| YEAR | 26.291074  |  -8.697044 | 20.22308   |  479.0895  |\n",
       "| AGECAT | 45.906068  |  23.110366 | 63.70537   |  873.3091  |\n",
       "| SEX |  4.864025  |  13.747684 | 11.96225   |  378.7788  |\n",
       "| MARRIED | 46.979326  |  -8.187190 | 43.41210   |  588.2207  |\n",
       "| EDUCAT | 24.595180  |   1.721821 | 27.22875   |  925.7046  |\n",
       "| EMPLOY18 | 20.199428  |   5.337514 | 21.84657   |  596.6656  |\n",
       "| CTYMETRO | 26.285285  |  -5.554436 | 22.15878   |  703.0472  |\n",
       "| HEALTH | 20.066830  |   4.764514 | 20.32546   |  984.1040  |\n",
       "| MENTHLTH |  4.551776  |  72.999910 | 23.98951   | 1252.3635  |\n",
       "| HEROINEVR | 20.911907  |  24.668068 | 26.37380   |  352.6402  |\n",
       "| HEROINUSE | 22.493401  |  35.612718 | 31.18089   |  469.9125  |\n",
       "| TRQLZRS | 36.031924  | 117.091061 | 82.09216   |  873.6242  |\n",
       "| SEDATVS | 26.467948  |  21.120509 | 32.96553   |  217.2904  |\n",
       "| COCAINE | 28.364911  |  81.925740 | 55.33638   | 1497.5291  |\n",
       "| AMPHETMN | 44.347992  |  79.918537 | 79.98630   | 1039.2713  |\n",
       "| HALUCNG | 30.482200  | 122.146321 | 89.35063   | 2073.0761  |\n",
       "| TRTMENT | 52.180608  |  43.215289 | 66.77813   |  327.9910  |\n",
       "| MHTRTMT | 14.232819  |   3.484320 | 15.27564   |  580.2845  |\n",
       "\n"
      ],
      "text/plain": [
       "          0         1          MeanDecreaseAccuracy MeanDecreaseGini\n",
       "YEAR      26.291074  -8.697044 20.22308              479.0895       \n",
       "AGECAT    45.906068  23.110366 63.70537              873.3091       \n",
       "SEX        4.864025  13.747684 11.96225              378.7788       \n",
       "MARRIED   46.979326  -8.187190 43.41210              588.2207       \n",
       "EDUCAT    24.595180   1.721821 27.22875              925.7046       \n",
       "EMPLOY18  20.199428   5.337514 21.84657              596.6656       \n",
       "CTYMETRO  26.285285  -5.554436 22.15878              703.0472       \n",
       "HEALTH    20.066830   4.764514 20.32546              984.1040       \n",
       "MENTHLTH   4.551776  72.999910 23.98951             1252.3635       \n",
       "HEROINEVR 20.911907  24.668068 26.37380              352.6402       \n",
       "HEROINUSE 22.493401  35.612718 31.18089              469.9125       \n",
       "TRQLZRS   36.031924 117.091061 82.09216              873.6242       \n",
       "SEDATVS   26.467948  21.120509 32.96553              217.2904       \n",
       "COCAINE   28.364911  81.925740 55.33638             1497.5291       \n",
       "AMPHETMN  44.347992  79.918537 79.98630             1039.2713       \n",
       "HALUCNG   30.482200 122.146321 89.35063             2073.0761       \n",
       "TRTMENT   52.180608  43.215289 66.77813              327.9910       \n",
       "MHTRTMT   14.232819   3.484320 15.27564              580.2845       "
      ]
     },
     "metadata": {},
     "output_type": "display_data"
    },
    {
     "data": {
      "image/png": "[encoded data removed]",
      "text/plain": [
       "plot without title"
      ]
     },
     "metadata": {},
     "output_type": "display_data"
    }
   ],
   "source": [
    "# divide plot area\n",
    "par(mfrow =c(2,2))\n",
    "\n",
    "# check for variable importance\n",
    "importance(rf1)\n",
    "varImpPlot(rf1)"
   ]
  },
  {
   "cell_type": "code",
   "execution_count": 12,
   "metadata": {},
   "outputs": [],
   "source": [
    "# get model predictions\n",
    "pred1 <- predict(rf1, test, type=\"class\")"
   ]
  },
  {
   "cell_type": "code",
   "execution_count": 13,
   "metadata": {},
   "outputs": [
    {
     "name": "stderr",
     "output_type": "stream",
     "text": [
      "Warning message:\n",
      "\"package 'caret' was built under R version 3.6.3\"Loading required package: lattice\n",
      "Warning message:\n",
      "\"package 'lattice' was built under R version 3.6.3\"Loading required package: ggplot2\n",
      "\n",
      "Attaching package: 'ggplot2'\n",
      "\n",
      "The following object is masked from 'package:randomForest':\n",
      "\n",
      "    margin\n",
      "\n"
     ]
    },
    {
     "data": {
      "text/plain": [
       "Confusion Matrix and Statistics\n",
       "\n",
       "          Reference\n",
       "Prediction     0     1\n",
       "         0 37440  3423\n",
       "         1   609  1107\n",
       "                                          \n",
       "               Accuracy : 0.9053          \n",
       "                 95% CI : (0.9025, 0.9081)\n",
       "    No Information Rate : 0.8936          \n",
       "    P-Value [Acc > NIR] : 9.346e-16       \n",
       "                                          \n",
       "                  Kappa : 0.3144          \n",
       "                                          \n",
       " Mcnemar's Test P-Value : < 2.2e-16       \n",
       "                                          \n",
       "            Sensitivity : 0.9840          \n",
       "            Specificity : 0.2444          \n",
       "         Pos Pred Value : 0.9162          \n",
       "         Neg Pred Value : 0.6451          \n",
       "             Prevalence : 0.8936          \n",
       "         Detection Rate : 0.8793          \n",
       "   Detection Prevalence : 0.9597          \n",
       "      Balanced Accuracy : 0.6142          \n",
       "                                          \n",
       "       'Positive' Class : 0               \n",
       "                                          "
      ]
     },
     "metadata": {},
     "output_type": "display_data"
    }
   ],
   "source": [
    "# output confusion matrix and error rate for rf1\n",
    "library(caret)\n",
    "confusionMatrix(pred1, test$PRLMISEVR)"
   ]
  },
  {
   "cell_type": "code",
   "execution_count": 1,
   "metadata": {},
   "outputs": [
    {
     "ename": "ERROR",
     "evalue": "Error in randomForest(PRLMISEVR ~ ., data = train, importance = TRUE): could not find function \"randomForest\"\n",
     "output_type": "error",
     "traceback": [
      "Error in randomForest(PRLMISEVR ~ ., data = train, importance = TRUE): could not find function \"randomForest\"\nTraceback:\n"
     ]
    }
   ],
   "source": [
    "# build random forest model with default parameters\n",
    "rf1 <- randomForest(PRLMISEVR ~ ., data = train, importance=TRUE)\n",
    "\n",
    "# plot error rate vs number of trees\n",
    "plot(rf1, ylim=c(0,0.10), main=\"rf1 Error versus ntrees\")\n",
    "\n",
    "# tune the mtry parameter\n",
    "try <- tuneRF(x=train[,-10], y=train[,10],\n",
    "              stepFactor = 1.5,\n",
    "              plot = TRUE,\n",
    "              ntree = 100,\n",
    "              trace = TRUE,\n",
    "              improve = 1e-5)\n",
    "\n",
    "# get best mtry\n",
    "best.mtry <- try[try[, 2] == min(try[, 2]), 1]\n",
    "\n",
    "# tune nodesize parameter\n",
    "nodes <- tune(randomForest, PRLMISEVR ~ ., data = train, \n",
    "              ranges = list(nodesize = 2:10),\n",
    "              tunecontrol = tune.control(sampling = \"fix\"))\n",
    "\n",
    "# get best nodesize\n",
    "best.nodesize <- nodes$best.parameters[1,]\n",
    "\n",
    "# create new random forest model with tuned ntrees, mtry, nodesize\n",
    "rf2 <- randomForest(PRLMISEVR ~ ., data = train, importance=TRUE, ntree=300, \n",
    "                    mtry=best.mtry, nodesize=best.nodesize)"
   ]
  },
  {
   "cell_type": "code",
   "execution_count": 15,
   "metadata": {},
   "outputs": [
    {
     "name": "stdout",
     "output_type": "stream",
     "text": [
      "mtry = 4  OOB error = 9.47% \n",
      "Searching left ...\n",
      "mtry = 3 \tOOB error = 9.41% \n",
      "0.006446281 1e-05 \n",
      "mtry = 2 \tOOB error = 9.43% \n",
      "-0.001829978 1e-05 \n",
      "Searching right ...\n",
      "mtry = 6 \tOOB error = 9.74% \n",
      "-0.03452005 1e-05 \n"
     ]
    },
    {
     "data": {
      "image/png": "[encoded data removed]",
      "text/plain": [
       "plot without title"
      ]
     },
     "metadata": {},
     "output_type": "display_data"
    }
   ],
   "source": [
    "# tune the mtry parameter\n",
    "try <- tuneRF(x=train[,-10], y=train[,10],\n",
    "              stepFactor = 1.5,\n",
    "              plot = TRUE,\n",
    "              ntree = 100,\n",
    "              trace = TRUE,\n",
    "              improve = 1e-5)"
   ]
  },
  {
   "cell_type": "code",
   "execution_count": 16,
   "metadata": {},
   "outputs": [
    {
     "data": {
      "text/html": [
       "3"
      ],
      "text/latex": [
       "3"
      ],
      "text/markdown": [
       "3"
      ],
      "text/plain": [
       "[1] 3"
      ]
     },
     "metadata": {},
     "output_type": "display_data"
    }
   ],
   "source": [
    "# get best mtry\n",
    "best.mtry <- try[try[, 2] == min(try[, 2]), 1]\n",
    "best.mtry"
   ]
  },
  {
   "cell_type": "code",
   "execution_count": 17,
   "metadata": {},
   "outputs": [],
   "source": [
    "library(e1071)\n",
    "# tune nodesize parameteer\n",
    "nodes <- tune(randomForest, PRLMISEVR ~ ., data = train, \n",
    "              ranges = list(nodesize = 2:10),\n",
    "              tunecontrol = tune.control(sampling = \"fix\"))"
   ]
  },
  {
   "cell_type": "code",
   "execution_count": 18,
   "metadata": {},
   "outputs": [
    {
     "data": {
      "image/png": "[encoded data removed]",
      "text/plain": [
       "Plot with title \"Error vs Nodesize\""
      ]
     },
     "metadata": {},
     "output_type": "display_data"
    }
   ],
   "source": [
    "plot(nodes, main=\"Error vs Nodesize\")"
   ]
  },
  {
   "cell_type": "code",
   "execution_count": 19,
   "metadata": {},
   "outputs": [
    {
     "data": {
      "text/html": [
       "7"
      ],
      "text/latex": [
       "7"
      ],
      "text/markdown": [
       "7"
      ],
      "text/plain": [
       "[1] 7"
      ]
     },
     "metadata": {},
     "output_type": "display_data"
    }
   ],
   "source": [
    "# get best nodesize\n",
    "best.nodesize <- nodes$best.parameters[1,]\n",
    "best.nodesize"
   ]
  },
  {
   "cell_type": "code",
   "execution_count": 20,
   "metadata": {},
   "outputs": [],
   "source": [
    "# create new random forest model with tuned ntrees and mtry parameters\n",
    "rf2 <- randomForest(PRLMISEVR ~ ., data = train, importance=TRUE, ntree=300, mtry=best.mtry, nodesize=best.nodesize)"
   ]
  },
  {
   "cell_type": "code",
   "execution_count": 21,
   "metadata": {},
   "outputs": [
    {
     "data": {
      "text/plain": [
       "Confusion Matrix and Statistics\n",
       "\n",
       "          Reference\n",
       "Prediction     0     1\n",
       "         0 37566  3521\n",
       "         1   483  1009\n",
       "                                          \n",
       "               Accuracy : 0.906           \n",
       "                 95% CI : (0.9032, 0.9087)\n",
       "    No Information Rate : 0.8936          \n",
       "    P-Value [Acc > NIR] : < 2.2e-16       \n",
       "                                          \n",
       "                  Kappa : 0.2981          \n",
       "                                          \n",
       " Mcnemar's Test P-Value : < 2.2e-16       \n",
       "                                          \n",
       "            Sensitivity : 0.9873          \n",
       "            Specificity : 0.2227          \n",
       "         Pos Pred Value : 0.9143          \n",
       "         Neg Pred Value : 0.6763          \n",
       "             Prevalence : 0.8936          \n",
       "         Detection Rate : 0.8823          \n",
       "   Detection Prevalence : 0.9650          \n",
       "      Balanced Accuracy : 0.6050          \n",
       "                                          \n",
       "       'Positive' Class : 0               \n",
       "                                          "
      ]
     },
     "metadata": {},
     "output_type": "display_data"
    }
   ],
   "source": [
    "# get model predictions\n",
    "pred2 <- predict(rf2, test, type=\"class\")\n",
    "\n",
    "# output confusion matrix and error rate for rf2\n",
    "confusionMatrix(pred2, test$PRLMISEVR)"
   ]
  },
  {
   "cell_type": "code",
   "execution_count": 22,
   "metadata": {},
   "outputs": [
    {
     "name": "stderr",
     "output_type": "stream",
     "text": [
      "Warning message:\n",
      "\"package 'ROCR' was built under R version 3.6.3\""
     ]
    },
    {
     "data": {
      "image/png": "[encoded data removed]",
      "text/plain": [
       "Plot with title \"ROC Curve for Random Forest\""
      ]
     },
     "metadata": {},
     "output_type": "display_data"
    },
    {
     "data": {
      "image/png": "[encoded data removed]",
      "text/plain": [
       "Plot with title \"Sensitivity/Specificity Plot for Random Forest\""
      ]
     },
     "metadata": {},
     "output_type": "display_data"
    }
   ],
   "source": [
    "# get performance metrics\n",
    "library(ROCR)\n",
    "\n",
    "pred = prediction(as.numeric(as.vector(pred2)), as.numeric(test$PRLMISEVR))\n",
    "\n",
    "# Plot ROC curve\n",
    "perf = performance(pred, \"tpr\",\"fpr\")\n",
    "plot(perf,main=\"ROC Curve for Random Forest\",col=2,lwd=2)\n",
    "abline(a=0,b=1,lwd=2,lty=2,col=\"gray\")\n",
    "\n",
    "# Plot sensitivity/specificity\n",
    "perf = performance(pred, \"sens\", \"spec\")\n",
    "plot(perf,\n",
    "     avg=\"threshold\",\n",
    "     col=2,\n",
    "     lwd=2,\n",
    "     main=\"Sensitivity/Specificity Plot for Random Forest\")"
   ]
  },
  {
   "cell_type": "code",
   "execution_count": 30,
   "metadata": {},
   "outputs": [
    {
     "name": "stdout",
     "output_type": "stream",
     "text": [
      "Random Forest Testing Error Before Tuning:  0.09469457 \n",
      "Random Forest Testing Error After Tuning:  0.09403697"
     ]
    }
   ],
   "source": [
    "rf_error1 = mean(pred1 != test$PRLMISEVR)\n",
    "rf_error2 = mean(pred2 != test$PRLMISEVR)\n",
    "cat(\"Random Forest Testing Error Before Tuning: \", rf_error1, \"\\n\")\n",
    "cat(\"Random Forest Testing Error After Tuning: \", rf_error2)"
   ]
  },
  {
   "cell_type": "code",
   "execution_count": 31,
   "metadata": {},
   "outputs": [],
   "source": [
    "# compare with basic logistic regression model\n",
    "glm1 <- glm(PRLMISEVR ~ ., data = train, family=\"binomial\")"
   ]
  },
  {
   "cell_type": "code",
   "execution_count": 35,
   "metadata": {},
   "outputs": [
    {
     "name": "stderr",
     "output_type": "stream",
     "text": [
      "Warning message in predict.lm(object, newdata, se.fit, scale = 1, type = if (type == :\n",
      "\"prediction from a rank-deficient fit may be misleading\""
     ]
    },
    {
     "data": {
      "text/plain": [
       "Confusion Matrix and Statistics\n",
       "\n",
       "          Reference\n",
       "Prediction     0     1\n",
       "         0 37476  3424\n",
       "         1   573  1106\n",
       "                                          \n",
       "               Accuracy : 0.9061          \n",
       "                 95% CI : (0.9033, 0.9089)\n",
       "    No Information Rate : 0.8936          \n",
       "    P-Value [Acc > NIR] : < 2.2e-16       \n",
       "                                          \n",
       "                  Kappa : 0.317           \n",
       "                                          \n",
       " Mcnemar's Test P-Value : < 2.2e-16       \n",
       "                                          \n",
       "            Sensitivity : 0.9849          \n",
       "            Specificity : 0.2442          \n",
       "         Pos Pred Value : 0.9163          \n",
       "         Neg Pred Value : 0.6587          \n",
       "             Prevalence : 0.8936          \n",
       "         Detection Rate : 0.8802          \n",
       "   Detection Prevalence : 0.9606          \n",
       "      Balanced Accuracy : 0.6145          \n",
       "                                          \n",
       "       'Positive' Class : 0               \n",
       "                                          "
      ]
     },
     "metadata": {},
     "output_type": "display_data"
    },
    {
     "name": "stdout",
     "output_type": "stream",
     "text": [
      "Logistic Regression Error:  0.09387257"
     ]
    }
   ],
   "source": [
    "# get predictions\n",
    "pred.glm1 <- predict(glm1, test, type=\"response\")\n",
    "pred.glm1 <- replace(pred.glm1, pred.glm1>=0.5, 1)\n",
    "pred.glm1 <- replace(pred.glm1, pred.glm1<0.5, 0)\n",
    "\n",
    "# output confusion matrix and error rate for gbm2\n",
    "pred.glm1 <- as.factor(pred.glm1)\n",
    "confusionMatrix(pred.glm1, test$PRLMISEVR)\n",
    "glm1.error = mean(pred.glm1 != test$PRLMISEVR)\n",
    "cat(\"Logistic Regression Error: \", glm1.error)"
   ]
  },
  {
   "cell_type": "code",
   "execution_count": 52,
   "metadata": {},
   "outputs": [
    {
     "data": {
      "text/html": [
       "0.98494047149728"
      ],
      "text/latex": [
       "0.98494047149728"
      ],
      "text/markdown": [
       "0.98494047149728"
      ],
      "text/plain": [
       "[1] 0.9849405"
      ]
     },
     "metadata": {},
     "output_type": "display_data"
    }
   ],
   "source": [
    "confusionMatrix(pred.glm1, test$PRLMISEVR)$byClass[[1]]"
   ]
  },
  {
   "cell_type": "code",
   "execution_count": 53,
   "metadata": {},
   "outputs": [
    {
     "data": {
      "text/html": [
       "<table>\n",
       "<thead><tr><th scope=col>Classifier</th><th scope=col>Error</th><th scope=col>Sensitivity</th><th scope=col>Specificity</th></tr></thead>\n",
       "<tbody>\n",
       "\t<tr><td>Logistic Regression        </td><td>0.09387257                 </td><td>0.9849405                  </td><td>0.2441501                  </td></tr>\n",
       "\t<tr><td>Random Forest (pre-tuning) </td><td>0.09469457                 </td><td>0.9839943                  </td><td>0.2443709                  </td></tr>\n",
       "\t<tr><td>Random Forest (post-tuning)</td><td>0.09403697                 </td><td>0.9873058                  </td><td>0.2227373                  </td></tr>\n",
       "\t<tr><td>GBM (pre-tuning)           </td><td>0.09462411                 </td><td>0.9839000                  </td><td>0.2461000                  </td></tr>\n",
       "\t<tr><td>GBM (post-tuning)          </td><td>0.09279222                 </td><td>0.9839000                  </td><td>0.2631000                  </td></tr>\n",
       "</tbody>\n",
       "</table>\n"
      ],
      "text/latex": [
       "\\begin{tabular}{r|llll}\n",
       " Classifier & Error & Sensitivity & Specificity\\\\\n",
       "\\hline\n",
       "\t Logistic Regression         & 0.09387257                  & 0.9849405                   & 0.2441501                  \\\\\n",
       "\t Random Forest (pre-tuning)  & 0.09469457                  & 0.9839943                   & 0.2443709                  \\\\\n",
       "\t Random Forest (post-tuning) & 0.09403697                  & 0.9873058                   & 0.2227373                  \\\\\n",
       "\t GBM (pre-tuning)            & 0.09462411                  & 0.9839000                   & 0.2461000                  \\\\\n",
       "\t GBM (post-tuning)           & 0.09279222                  & 0.9839000                   & 0.2631000                  \\\\\n",
       "\\end{tabular}\n"
      ],
      "text/markdown": [
       "\n",
       "| Classifier | Error | Sensitivity | Specificity |\n",
       "|---|---|---|---|\n",
       "| Logistic Regression         | 0.09387257                  | 0.9849405                   | 0.2441501                   |\n",
       "| Random Forest (pre-tuning)  | 0.09469457                  | 0.9839943                   | 0.2443709                   |\n",
       "| Random Forest (post-tuning) | 0.09403697                  | 0.9873058                   | 0.2227373                   |\n",
       "| GBM (pre-tuning)            | 0.09462411                  | 0.9839000                   | 0.2461000                   |\n",
       "| GBM (post-tuning)           | 0.09279222                  | 0.9839000                   | 0.2631000                   |\n",
       "\n"
      ],
      "text/plain": [
       "  Classifier                  Error      Sensitivity Specificity\n",
       "1 Logistic Regression         0.09387257 0.9849405   0.2441501  \n",
       "2 Random Forest (pre-tuning)  0.09469457 0.9839943   0.2443709  \n",
       "3 Random Forest (post-tuning) 0.09403697 0.9873058   0.2227373  \n",
       "4 GBM (pre-tuning)            0.09462411 0.9839000   0.2461000  \n",
       "5 GBM (post-tuning)           0.09279222 0.9839000   0.2631000  "
      ]
     },
     "metadata": {},
     "output_type": "display_data"
    }
   ],
   "source": [
    "# Error Rate comparison\n",
    "df.comp <- data.frame(Classifier=c(\"Logistic Regression\", \"Random Forest (pre-tuning)\",\n",
    "                                  \"Random Forest (post-tuning)\", \"GBM (pre-tuning)\", \"GBM (post-tuning)\"),\n",
    "                      Error=c(glm1.error, rf_error1, rf_error2, 0.09462411, 0.09279222),\n",
    "                      Sensitivity=c(confusionMatrix(pred.glm1, test$PRLMISEVR)$byClass[[1]],\n",
    "                                   confusionMatrix(pred1, test$PRLMISEVR)$byClass[[1]],\n",
    "                                   confusionMatrix(pred2, test$PRLMISEVR)$byClass[[1]],\n",
    "                                   0.9839, 0.9839),\n",
    "                      Specificity=c(confusionMatrix(pred.glm1, test$PRLMISEVR)$byClass[[2]],\n",
    "                                   confusionMatrix(pred1, test$PRLMISEVR)$byClass[[2]],\n",
    "                                   confusionMatrix(pred2, test$PRLMISEVR)$byClass[[2]],\n",
    "                                   0.2461, 0.2631)\n",
    "                     )\n",
    "\n",
    "df.comp"
   ]
  }
 ],
 "metadata": {
  "kernelspec": {
   "display_name": "R",
   "language": "R",
   "name": "ir"
  },
  "language_info": {
   "codemirror_mode": "r",
   "file_extension": ".r",
   "mimetype": "text/x-r-source",
   "name": "R",
   "pygments_lexer": "r",
   "version": "3.6.1"
  }
 },
 "nbformat": 4,
 "nbformat_minor": 4
}
