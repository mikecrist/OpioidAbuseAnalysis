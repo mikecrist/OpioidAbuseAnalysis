{
 "cells": [
  {
   "cell_type": "code",
   "execution_count": 1,
   "metadata": {},
   "outputs": [
    {
     "name": "stderr",
     "output_type": "stream",
     "text": [
      "Warning message:\n",
      "\"package 'dplyr' was built under R version 3.6.3\"\n",
      "Attaching package: 'dplyr'\n",
      "\n",
      "The following objects are masked from 'package:stats':\n",
      "\n",
      "    filter, lag\n",
      "\n",
      "The following objects are masked from 'package:base':\n",
      "\n",
      "    intersect, setdiff, setequal, union\n",
      "\n",
      "Warning message:\n",
      "\"package 'MASS' was built under R version 3.6.3\"\n",
      "Attaching package: 'MASS'\n",
      "\n",
      "The following object is masked from 'package:dplyr':\n",
      "\n",
      "    select\n",
      "\n",
      "Warning message:\n",
      "\"package 'caret' was built under R version 3.6.3\"Loading required package: lattice\n",
      "Warning message:\n",
      "\"package 'lattice' was built under R version 3.6.3\"Loading required package: ggplot2\n",
      "Warning message:\n",
      "\"package 'car' was built under R version 3.6.3\"Loading required package: carData\n",
      "Warning message:\n",
      "\"package 'carData' was built under R version 3.6.3\"\n",
      "Attaching package: 'car'\n",
      "\n",
      "The following object is masked from 'package:dplyr':\n",
      "\n",
      "    recode\n",
      "\n",
      "Warning message:\n",
      "\"package 'ROCR' was built under R version 3.6.3\""
     ]
    }
   ],
   "source": [
    "# get libraries\n",
    "library(dplyr)\n",
    "library(MASS)\n",
    "library(caret)\n",
    "library(e1071)\n",
    "library(class)\n",
    "library(car)\n",
    "library(ROCR)"
   ]
  },
  {
   "cell_type": "code",
   "execution_count": 2,
   "metadata": {},
   "outputs": [],
   "source": [
    "# read data\n",
    "data = read.csv(\"prlmis-data-full.csv\", header=TRUE, fileEncoding=\"UTF-8-BOM\")\n",
    "\n",
    "# remove alternate response variables\n",
    "data = data[,!names(data) %in% c(\"PRLANY\",\"PRLMISAB\")]\n",
    "\n",
    "# update categorical values from raw dataset to be descriptive\n",
    "data$YEAR <- replace(data$YEAR, data$YEAR==\"15\", \"2015\")\n",
    "data$YEAR <- replace(data$YEAR, data$YEAR==\"16\", \"2016\")\n",
    "data$YEAR <- replace(data$YEAR, data$YEAR==\"17\", \"2017\")\n",
    "\n",
    "data$AGECAT <- replace(data$AGECAT, data$AGECAT==\"1\", \"12-17\")\n",
    "data$AGECAT <- replace(data$AGECAT, data$AGECAT==\"2\", \"18-25\")\n",
    "data$AGECAT <- replace(data$AGECAT, data$AGECAT==\"3\", \"26-35\")\n",
    "data$AGECAT <- replace(data$AGECAT, data$AGECAT==\"4\", \"36-49\")\n",
    "data$AGECAT <- replace(data$AGECAT, data$AGECAT==\"5\", \"50+\")\n",
    "\n",
    "data$SEX <- replace(data$SEX, data$SEX==\"0\", \"Male\")\n",
    "data$SEX <- replace(data$SEX, data$SEX==\"1\", \"Female\")\n",
    "\n",
    "data$MARRIED <- replace(data$MARRIED, data$MARRIED==\"0\", \"Unmarried\")\n",
    "data$MARRIED <- replace(data$MARRIED, data$MARRIED==\"1\", \"Divorced\")\n",
    "data$MARRIED <- replace(data$MARRIED, data$MARRIED==\"2\", \"Widowed\")\n",
    "data$MARRIED <- replace(data$MARRIED, data$MARRIED==\"3\", \"Married\")\n",
    "data$MARRIED <- replace(data$MARRIED, data$MARRIED==\"4\", \"Married\")\n",
    "\n",
    "data$EDUCAT <- replace(data$EDUCAT, data$EDUCAT==\"1\", \"School Age\")\n",
    "data$EDUCAT <- replace(data$EDUCAT, data$EDUCAT==\"2\", \"Some HS\")\n",
    "data$EDUCAT <- replace(data$EDUCAT, data$EDUCAT==\"3\", \"HS grad\")\n",
    "data$EDUCAT <- replace(data$EDUCAT, data$EDUCAT==\"4\", \"Some College\")\n",
    "data$EDUCAT <- replace(data$EDUCAT, data$EDUCAT==\"5\", \"College Grad\")\n",
    "\n",
    "data$EMPLOY18 <- replace(data$EMPLOY18, data$EMPLOY18==\"0\", \"Unemployed\")\n",
    "data$EMPLOY18 <- replace(data$EMPLOY18, data$EMPLOY18==\"1\", \"Part-Time\")\n",
    "data$EMPLOY18 <- replace(data$EMPLOY18, data$EMPLOY18==\"2\", \"Full-Time\")\n",
    "\n",
    "data$CTYMETRO <- replace(data$CTYMETRO, data$CTYMETRO==\"1\", \"Rural\")\n",
    "data$CTYMETRO <- replace(data$CTYMETRO, data$CTYMETRO==\"2\", \"Small\")\n",
    "data$CTYMETRO <- replace(data$CTYMETRO, data$CTYMETRO==\"3\", \"Large\")\n",
    "data$CTYMETRO <- replace(data$CTYMETRO, data$CTYMETRO==\"0\", \"na\")\n",
    "\n",
    "# convert categorical variables to factors\n",
    "data$YEAR<-as.factor(data$YEAR)\n",
    "data$AGECAT<-as.factor(data$AGECAT)\n",
    "data$SEX<-as.factor(data$SEX)\n",
    "data$MARRIED<-as.factor(data$MARRIED)\n",
    "data$EDUCAT<-as.factor(data$EDUCAT)\n",
    "data$EMPLOY18<-as.factor(data$EMPLOY18)\n",
    "data$CTYMETRO<-as.factor(data$CTYMETRO)\n",
    "data$PRLMISEVR<-as.factor(data$PRLMISEVR)\n",
    "data$HEROINEVR<-as.factor(data$HEROINEVR)"
   ]
  },
  {
   "cell_type": "code",
   "execution_count": 3,
   "metadata": {},
   "outputs": [
    {
     "data": {
      "text/html": [
       "<ol class=list-inline>\n",
       "\t<li>127738</li>\n",
       "\t<li>19</li>\n",
       "</ol>\n"
      ],
      "text/latex": [
       "\\begin{enumerate*}\n",
       "\\item 127738\n",
       "\\item 19\n",
       "\\end{enumerate*}\n"
      ],
      "text/markdown": [
       "1. 127738\n",
       "2. 19\n",
       "\n",
       "\n"
      ],
      "text/plain": [
       "[1] 127738     19"
      ]
     },
     "metadata": {},
     "output_type": "display_data"
    },
    {
     "data": {
      "text/html": [
       "<ol class=list-inline>\n",
       "\t<li>42579</li>\n",
       "\t<li>19</li>\n",
       "</ol>\n"
      ],
      "text/latex": [
       "\\begin{enumerate*}\n",
       "\\item 42579\n",
       "\\item 19\n",
       "\\end{enumerate*}\n"
      ],
      "text/markdown": [
       "1. 42579\n",
       "2. 19\n",
       "\n",
       "\n"
      ],
      "text/plain": [
       "[1] 42579    19"
      ]
     },
     "metadata": {},
     "output_type": "display_data"
    }
   ],
   "source": [
    "# train/test split\n",
    "set.seed(123)\n",
    "\n",
    "fractrain = 0.75\n",
    "fractest = 1-fractrain\n",
    "flag <- sort(sample(dim(data)[1], dim(data)[1]*fractest, replace = FALSE))\n",
    "train <- data[-flag,]\n",
    "test <- data[flag,]\n",
    "dim(train)\n",
    "dim(test)"
   ]
  },
  {
   "cell_type": "code",
   "execution_count": 4,
   "metadata": {},
   "outputs": [
    {
     "name": "stderr",
     "output_type": "stream",
     "text": [
      "Warning message in lda.default(x, grouping, ...):\n",
      "\"variables are collinear\""
     ]
    }
   ],
   "source": [
    "# build LDA model\n",
    "lda1 <- lda(PRLMISEVR ~ ., data = train)"
   ]
  },
  {
   "cell_type": "code",
   "execution_count": 20,
   "metadata": {},
   "outputs": [
    {
     "data": {
      "text/plain": [
       "Confusion Matrix and Statistics\n",
       "\n",
       "          Reference\n",
       "Prediction     0     1\n",
       "         0 36782  2957\n",
       "         1  1267  1573\n",
       "                                          \n",
       "               Accuracy : 0.9008          \n",
       "                 95% CI : (0.8979, 0.9036)\n",
       "    No Information Rate : 0.8936          \n",
       "    P-Value [Acc > NIR] : 6.219e-07       \n",
       "                                          \n",
       "                  Kappa : 0.3757          \n",
       "                                          \n",
       " Mcnemar's Test P-Value : < 2.2e-16       \n",
       "                                          \n",
       "            Sensitivity : 0.9667          \n",
       "            Specificity : 0.3472          \n",
       "         Pos Pred Value : 0.9256          \n",
       "         Neg Pred Value : 0.5539          \n",
       "             Prevalence : 0.8936          \n",
       "         Detection Rate : 0.8639          \n",
       "   Detection Prevalence : 0.9333          \n",
       "      Balanced Accuracy : 0.6570          \n",
       "                                          \n",
       "       'Positive' Class : 0               \n",
       "                                          "
      ]
     },
     "metadata": {},
     "output_type": "display_data"
    }
   ],
   "source": [
    "# get predictions, confusion matrix, and test error\n",
    "pred.lda1 <- predict(lda1, test)\n",
    "\n",
    "# confusion matrix\n",
    "confusionMatrix(pred.lda1$class, test$PRLMISEVR)\n",
    "\n",
    "# test error\n",
    "lda1.error = mean(pred.lda1$class!=test$PRLMISEVR)\n",
    "\n",
    "# other metrics\n",
    "lda.accuracy=confusionMatrix(pred.lda1$class, test$PRLMISEVR)$overall[[1]]\n",
    "lda.sensitivity=confusionMatrix(pred.lda1$class, test$PRLMISEVR)$byClass[[2]]\n",
    "lda.specificity=confusionMatrix(pred.lda1$class, test$PRLMISEVR)$byClass[[1]]\n",
    "lda.precision=confusionMatrix(pred.lda1$class, test$PRLMISEVR)$byClass[[4]]\n",
    "lda.pvalue=confusionMatrix(pred.lda1$class, test$PRLMISEVR)$overall[[7]]"
   ]
  },
  {
   "cell_type": "code",
   "execution_count": 6,
   "metadata": {},
   "outputs": [],
   "source": [
    "# build QDA model\n",
    "qda1 <- qda(PRLMISEVR ~ \n",
    "            HEROINUSE+TRQLZRS+COCAINE+SEDATVS+AMPHETMN+HALUCNG+TRTMENT+MHTRTMT+\n",
    "            YEAR+AGECAT+SEX+MARRIED+EMPLOY18+HEALTH+MENTHLTH+HEROINEVR, \n",
    "            data = train, cv=5)"
   ]
  },
  {
   "cell_type": "code",
   "execution_count": 21,
   "metadata": {},
   "outputs": [
    {
     "data": {
      "text/plain": [
       "Confusion Matrix and Statistics\n",
       "\n",
       "          Reference\n",
       "Prediction     0     1\n",
       "         0 34755  2432\n",
       "         1  3294  2098\n",
       "                                          \n",
       "               Accuracy : 0.8655          \n",
       "                 95% CI : (0.8622, 0.8687)\n",
       "    No Information Rate : 0.8936          \n",
       "    P-Value [Acc > NIR] : 1               \n",
       "                                          \n",
       "                  Kappa : 0.3474          \n",
       "                                          \n",
       " Mcnemar's Test P-Value : <2e-16          \n",
       "                                          \n",
       "            Sensitivity : 0.9134          \n",
       "            Specificity : 0.4631          \n",
       "         Pos Pred Value : 0.9346          \n",
       "         Neg Pred Value : 0.3891          \n",
       "             Prevalence : 0.8936          \n",
       "         Detection Rate : 0.8162          \n",
       "   Detection Prevalence : 0.8734          \n",
       "      Balanced Accuracy : 0.6883          \n",
       "                                          \n",
       "       'Positive' Class : 0               \n",
       "                                          "
      ]
     },
     "metadata": {},
     "output_type": "display_data"
    }
   ],
   "source": [
    "# get predictions, confusion matrix, and test error\n",
    "pred.qda1 <- predict(qda1, test)\n",
    "\n",
    "# confusion matrix\n",
    "confusionMatrix(pred.qda1$class, test$PRLMISEVR)\n",
    "\n",
    "# test error\n",
    "qda1.error = mean(pred.qda1$class!=test$PRLMISEVR)\n",
    "\n",
    "# other metrics\n",
    "qda.accuracy=confusionMatrix(pred.qda1$class, test$PRLMISEVR)$overall[[1]]\n",
    "qda.sensitivity=confusionMatrix(pred.qda1$class, test$PRLMISEVR)$byClass[[2]]\n",
    "qda.specificity=confusionMatrix(pred.qda1$class, test$PRLMISEVR)$byClass[[1]]\n",
    "qda.precision=confusionMatrix(pred.qda1$class, test$PRLMISEVR)$byClass[[4]]\n",
    "qda.pvalue=confusionMatrix(pred.qda1$class, test$PRLMISEVR)$overall[[7]]"
   ]
  },
  {
   "cell_type": "code",
   "execution_count": 8,
   "metadata": {},
   "outputs": [],
   "source": [
    "# build Naive Bayes model\n",
    "bayes1 <- naiveBayes(PRLMISEVR ~ ., data = train)"
   ]
  },
  {
   "cell_type": "code",
   "execution_count": 26,
   "metadata": {},
   "outputs": [
    {
     "data": {
      "text/plain": [
       "Confusion Matrix and Statistics\n",
       "\n",
       "          Reference\n",
       "Prediction     0     1\n",
       "         0 34564  2342\n",
       "         1  3485  2188\n",
       "                                          \n",
       "               Accuracy : 0.8631          \n",
       "                 95% CI : (0.8598, 0.8664)\n",
       "    No Information Rate : 0.8936          \n",
       "    P-Value [Acc > NIR] : 1               \n",
       "                                          \n",
       "                  Kappa : 0.3523          \n",
       "                                          \n",
       " Mcnemar's Test P-Value : <2e-16          \n",
       "                                          \n",
       "            Sensitivity : 0.9084          \n",
       "            Specificity : 0.4830          \n",
       "         Pos Pred Value : 0.9365          \n",
       "         Neg Pred Value : 0.3857          \n",
       "             Prevalence : 0.8936          \n",
       "         Detection Rate : 0.8118          \n",
       "   Detection Prevalence : 0.8668          \n",
       "      Balanced Accuracy : 0.6957          \n",
       "                                          \n",
       "       'Positive' Class : 0               \n",
       "                                          "
      ]
     },
     "metadata": {},
     "output_type": "display_data"
    }
   ],
   "source": [
    "# get predictions, confusion matrix, and test error\n",
    "pred.bayes1 <- predict(bayes1, test)\n",
    "\n",
    "# confusion matrix\n",
    "confusionMatrix(pred.bayes1, test$PRLMISEVR)\n",
    "\n",
    "# test error\n",
    "bayes1.error = mean(pred.bayes1!=test$PRLMISEVR)\n",
    "\n",
    "# other metrics\n",
    "bayes.accuracy=confusionMatrix(pred.bayes1, test$PRLMISEVR)$overall[[1]]\n",
    "bayes.sensitivity=confusionMatrix(pred.bayes1, test$PRLMISEVR)$byClass[[2]]\n",
    "bayes.specificity=confusionMatrix(pred.bayes1, test$PRLMISEVR)$byClass[[1]]\n",
    "bayes.precision=confusionMatrix(pred.bayes1, test$PRLMISEVR)$byClass[[4]]\n",
    "bayes.pvalue=confusionMatrix(pred.bayes1, test$PRLMISEVR)$overall[[7]]"
   ]
  },
  {
   "cell_type": "code",
   "execution_count": 10,
   "metadata": {},
   "outputs": [],
   "source": [
    "# build logistic regression model\n",
    "glm1 <- glm(PRLMISEVR ~ ., data = train, family=\"binomial\")"
   ]
  },
  {
   "cell_type": "code",
   "execution_count": 22,
   "metadata": {},
   "outputs": [
    {
     "name": "stderr",
     "output_type": "stream",
     "text": [
      "Warning message in predict.lm(object, newdata, se.fit, scale = 1, type = if (type == :\n",
      "\"prediction from a rank-deficient fit may be misleading\""
     ]
    },
    {
     "data": {
      "text/plain": [
       "Confusion Matrix and Statistics\n",
       "\n",
       "          Reference\n",
       "Prediction     0     1\n",
       "         0 37476  3424\n",
       "         1   573  1106\n",
       "                                          \n",
       "               Accuracy : 0.9061          \n",
       "                 95% CI : (0.9033, 0.9089)\n",
       "    No Information Rate : 0.8936          \n",
       "    P-Value [Acc > NIR] : < 2.2e-16       \n",
       "                                          \n",
       "                  Kappa : 0.317           \n",
       "                                          \n",
       " Mcnemar's Test P-Value : < 2.2e-16       \n",
       "                                          \n",
       "            Sensitivity : 0.9849          \n",
       "            Specificity : 0.2442          \n",
       "         Pos Pred Value : 0.9163          \n",
       "         Neg Pred Value : 0.6587          \n",
       "             Prevalence : 0.8936          \n",
       "         Detection Rate : 0.8802          \n",
       "   Detection Prevalence : 0.9606          \n",
       "      Balanced Accuracy : 0.6145          \n",
       "                                          \n",
       "       'Positive' Class : 0               \n",
       "                                          "
      ]
     },
     "metadata": {},
     "output_type": "display_data"
    }
   ],
   "source": [
    "# get predictions\n",
    "pred.glm1 <- predict(glm1, test, type=\"response\")\n",
    "pred.glm1 <- replace(pred.glm1, pred.glm1>=0.5, 1)\n",
    "pred.glm1 <- replace(pred.glm1, pred.glm1<0.5, 0)\n",
    "\n",
    "# output confusion matrix and error rate for glm1\n",
    "pred.glm1 <- as.factor(pred.glm1)\n",
    "confusionMatrix(pred.glm1, test$PRLMISEVR)\n",
    "glm1.error = mean(pred.glm1 != test$PRLMISEVR)\n",
    "\n",
    "# other metrics\n",
    "glm.accuracy=confusionMatrix(pred.glm1, test$PRLMISEVR)$overall[[1]]\n",
    "glm.sensitivity=confusionMatrix(pred.glm1, test$PRLMISEVR)$byClass[[2]]\n",
    "glm.specificity=confusionMatrix(pred.glm1, test$PRLMISEVR)$byClass[[1]]\n",
    "glm.precision=confusionMatrix(pred.glm1, test$PRLMISEVR)$byClass[[4]]\n",
    "glm.pvalue=confusionMatrix(pred.glm1, test$PRLMISEVR)$overall[[7]]"
   ]
  },
  {
   "cell_type": "code",
   "execution_count": 4,
   "metadata": {},
   "outputs": [
    {
     "data": {
      "text/html": [
       "<ol class=list-inline>\n",
       "\t<li>127738</li>\n",
       "\t<li>11</li>\n",
       "</ol>\n"
      ],
      "text/latex": [
       "\\begin{enumerate*}\n",
       "\\item 127738\n",
       "\\item 11\n",
       "\\end{enumerate*}\n"
      ],
      "text/markdown": [
       "1. 127738\n",
       "2. 11\n",
       "\n",
       "\n"
      ],
      "text/plain": [
       "[1] 127738     11"
      ]
     },
     "metadata": {},
     "output_type": "display_data"
    },
    {
     "data": {
      "text/html": [
       "<ol class=list-inline>\n",
       "\t<li>42579</li>\n",
       "\t<li>11</li>\n",
       "</ol>\n"
      ],
      "text/latex": [
       "\\begin{enumerate*}\n",
       "\\item 42579\n",
       "\\item 11\n",
       "\\end{enumerate*}\n"
      ],
      "text/markdown": [
       "1. 42579\n",
       "2. 11\n",
       "\n",
       "\n"
      ],
      "text/plain": [
       "[1] 42579    11"
      ]
     },
     "metadata": {},
     "output_type": "display_data"
    }
   ],
   "source": [
    "# KNN\n",
    "\n",
    "# get numeric data only\n",
    "data2 <- data[,c('PRLMISEVR', 'HEALTH', 'MENTHLTH', 'HEROINUSE', 'TRQLZRS', \n",
    "                        'SEDATVS', 'COCAINE', 'AMPHETMN', 'HALUCNG', 'TRTMENT', 'MHTRTMT')]\n",
    "\n",
    "# add jitter to prevent knn error\n",
    "data2$HEALTH <- jitter(data2$HEALTH, 0.01)\n",
    "data2$MENTHLTH <- jitter(data2$MENTHLTH, 0.01)\n",
    "data2$HEROINUSE <- jitter(data2$HEROINUSE, 0.01)\n",
    "data2$TRQLZRS <- jitter(data2$TRQLZRS, 0.01)\n",
    "data2$SEDATVS <- jitter(data2$SEDATVS, 0.01)\n",
    "data2$COCAINE <- jitter(data2$COCAINE, 0.01)\n",
    "data2$AMPHETMN <- jitter(data2$AMPHETMN, 0.01)\n",
    "data2$HALUCNG <- jitter(data2$HALUCNG, 0.01)\n",
    "data2$TRTMENT <- jitter(data2$TRTMENT, 0.01)\n",
    "data2$MHTRTMT <- jitter(data2$MHTRTMT, 0.01)\n",
    "\n",
    "# train test split\n",
    "set.seed(123)\n",
    "fractrain = 0.75\n",
    "fractest = 1-fractrain\n",
    "flag <- sort(sample(dim(data2)[1], dim(data2)[1]*fractest, replace = FALSE))\n",
    "train2 <- data2[-flag,]\n",
    "test2 <- data2[flag,]\n",
    "\n",
    "dim(train2)\n",
    "dim(test2)"
   ]
  },
  {
   "cell_type": "code",
   "execution_count": 13,
   "metadata": {},
   "outputs": [],
   "source": [
    "# create knn models for several k-values\n",
    "k.error = c()\n",
    "k.vals = c(2,4,6,8,10,12,14)\n",
    "\n",
    "for (i in k.vals) {\n",
    "    knn.model <- knn(train = train2, test = test2, cl = train2$PRLMISEVR, k=i)\n",
    "    k.error <- append(k.error, mean(knn.model != test2$PRLMISEVR))\n",
    "}"
   ]
  },
  {
   "cell_type": "code",
   "execution_count": 14,
   "metadata": {},
   "outputs": [
    {
     "data": {
      "image/png": "[encoded data removed]",
      "text/plain": [
       "Plot with title \"KNN: error vs k-value\""
      ]
     },
     "metadata": {},
     "output_type": "display_data"
    }
   ],
   "source": [
    "# plot error vs k-value\n",
    "plot(k.vals, k.error,\n",
    "    main=\"KNN: error vs k-value\",\n",
    "    xlab=\"k value\",\n",
    "    ylab=\"Error\")\n",
    "lines(k.vals[order(k.vals)], k.error[order(k.vals)], xlim=range(k.vals), ylim=range(k.error), pch=16)"
   ]
  },
  {
   "cell_type": "code",
   "execution_count": 15,
   "metadata": {},
   "outputs": [
    {
     "name": "stdout",
     "output_type": "stream",
     "text": [
      "Optimal k-value:  4"
     ]
    }
   ],
   "source": [
    "cat(\"Optimal k-value: \", k.vals[which.min(k.error)])"
   ]
  },
  {
   "cell_type": "code",
   "execution_count": 6,
   "metadata": {},
   "outputs": [],
   "source": [
    "# build knn model with optimal k-value\n",
    "\n",
    "#knn1 <- knn(train = train2, test = test2, cl = train2$PRLMISEVR, k=k.vals[which.min(k.error)])\n",
    "knn1 <- knn(train = train2, test = test2, cl = train2$PRLMISEVR, k=4)"
   ]
  },
  {
   "cell_type": "code",
   "execution_count": 23,
   "metadata": {},
   "outputs": [
    {
     "data": {
      "text/plain": [
       "Confusion Matrix and Statistics\n",
       "\n",
       "          Reference\n",
       "Prediction     0     1\n",
       "         0 37905   228\n",
       "         1   144  4302\n",
       "                                          \n",
       "               Accuracy : 0.9913          \n",
       "                 95% CI : (0.9903, 0.9921)\n",
       "    No Information Rate : 0.8936          \n",
       "    P-Value [Acc > NIR] : < 2.2e-16       \n",
       "                                          \n",
       "                  Kappa : 0.9537          \n",
       "                                          \n",
       " Mcnemar's Test P-Value : 1.682e-05       \n",
       "                                          \n",
       "            Sensitivity : 0.9962          \n",
       "            Specificity : 0.9497          \n",
       "         Pos Pred Value : 0.9940          \n",
       "         Neg Pred Value : 0.9676          \n",
       "             Prevalence : 0.8936          \n",
       "         Detection Rate : 0.8902          \n",
       "   Detection Prevalence : 0.8956          \n",
       "      Balanced Accuracy : 0.9729          \n",
       "                                          \n",
       "       'Positive' Class : 0               \n",
       "                                          "
      ]
     },
     "metadata": {},
     "output_type": "display_data"
    }
   ],
   "source": [
    "# get predictions, confusion matrix, and test error\n",
    "confusionMatrix(knn1, test2$PRLMISEVR)\n",
    "\n",
    "# test error\n",
    "knn1.error = mean(knn1 != test2$PRLMISEVR)\n",
    "\n",
    "# other metrics\n",
    "knn.accuracy=confusionMatrix(knn1, test2$PRLMISEVR)$overall[[1]]\n",
    "knn.sensitivity=confusionMatrix(knn1, test2$PRLMISEVR)$byClass[[2]]\n",
    "knn.specificity=confusionMatrix(knn1, test2$PRLMISEVR)$byClass[[1]]\n",
    "knn.precision=confusionMatrix(knn1, test2$PRLMISEVR)$byClass[[4]]\n",
    "knn.pvalue=confusionMatrix(knn1, test2$PRLMISEVR)$overall[[7]]"
   ]
  },
  {
   "cell_type": "code",
   "execution_count": 14,
   "metadata": {},
   "outputs": [
    {
     "data": {
      "image/png": "[encoded data removed]",
      "text/plain": [
       "Plot with title \"ROC Curve for KNN Model\""
      ]
     },
     "metadata": {},
     "output_type": "display_data"
    },
    {
     "data": {
      "image/png": "[encoded data removed]",
      "text/plain": [
       "Plot with title \"Sensitivity/Specificity Plot for KNN Model\""
      ]
     },
     "metadata": {},
     "output_type": "display_data"
    }
   ],
   "source": [
    "pred = prediction(as.numeric(as.vector(knn1)), as.numeric(test$PRLMISEVR))\n",
    "\n",
    "# Plot ROC curve\n",
    "perf = performance(pred, \"tpr\",\"fpr\")\n",
    "plot(perf,main=\"ROC Curve for KNN Model\",col=2,lwd=2)\n",
    "abline(a=0,b=1,lwd=2,lty=2,col=\"gray\")\n",
    "\n",
    "# Plot sensitivity/specificity\n",
    "perf = performance(pred, \"sens\", \"spec\")\n",
    "plot(perf,\n",
    "     avg=\"threshold\",\n",
    "     col=2,\n",
    "     lwd=2,\n",
    "     main=\"Sensitivity/Specificity Plot for KNN Model\")\n",
    "abline(a=1,b=-1,lwd=2,lty=2,col=\"gray\")"
   ]
  },
  {
   "cell_type": "code",
   "execution_count": 49,
   "metadata": {},
   "outputs": [
    {
     "data": {
      "text/html": [
       "<table>\n",
       "<thead><tr><th></th><th scope=col>Error</th><th scope=col>Accuracy</th><th scope=col>Sensitivity</th><th scope=col>Specificity</th><th scope=col>Precision</th><th scope=col>pvalue</th></tr></thead>\n",
       "<tbody>\n",
       "\t<tr><th scope=row>KNN</th><td>0.0087       </td><td>0.9913       </td><td>0.9497       </td><td>0.9962       </td><td>0.9676       </td><td> 1.682351e-05</td></tr>\n",
       "\t<tr><th scope=row>Boosting</th><td>0.0928       </td><td>0.9072       </td><td>0.2631       </td><td>0.9839       </td><td>0.6604       </td><td> 2.200000e-16</td></tr>\n",
       "\t<tr><th scope=row>Logistic Regression</th><td>0.0939       </td><td>0.9061       </td><td>0.2442       </td><td>0.9849       </td><td>0.6587       </td><td> 0.000000e+00</td></tr>\n",
       "\t<tr><th scope=row>Random Forest</th><td>0.0940       </td><td>0.9061       </td><td>0.2227       </td><td>0.9873       </td><td>0.6587       </td><td> 2.200000e-16</td></tr>\n",
       "\t<tr><th scope=row>LDA</th><td>0.0992       </td><td>0.9008       </td><td>0.3472       </td><td>0.9667       </td><td>0.5539       </td><td>6.822641e-149</td></tr>\n",
       "\t<tr><th scope=row>QDA</th><td>0.1345       </td><td>0.8655       </td><td>0.4631       </td><td>0.9134       </td><td>0.3891       </td><td> 5.363345e-30</td></tr>\n",
       "\t<tr><th scope=row>Naive Bayes</th><td>0.1369       </td><td>0.8631       </td><td>0.4830       </td><td>0.9084       </td><td>0.3857       </td><td> 1.331960e-50</td></tr>\n",
       "</tbody>\n",
       "</table>\n"
      ],
      "text/latex": [
       "\\begin{tabular}{r|llllll}\n",
       "  & Error & Accuracy & Sensitivity & Specificity & Precision & pvalue\\\\\n",
       "\\hline\n",
       "\tKNN & 0.0087        & 0.9913        & 0.9497        & 0.9962        & 0.9676        &  1.682351e-05\\\\\n",
       "\tBoosting & 0.0928        & 0.9072        & 0.2631        & 0.9839        & 0.6604        &  2.200000e-16\\\\\n",
       "\tLogistic Regression & 0.0939        & 0.9061        & 0.2442        & 0.9849        & 0.6587        &  0.000000e+00\\\\\n",
       "\tRandom Forest & 0.0940        & 0.9061        & 0.2227        & 0.9873        & 0.6587        &  2.200000e-16\\\\\n",
       "\tLDA & 0.0992        & 0.9008        & 0.3472        & 0.9667        & 0.5539        & 6.822641e-149\\\\\n",
       "\tQDA & 0.1345        & 0.8655        & 0.4631        & 0.9134        & 0.3891        &  5.363345e-30\\\\\n",
       "\tNaive Bayes & 0.1369        & 0.8631        & 0.4830        & 0.9084        & 0.3857        &  1.331960e-50\\\\\n",
       "\\end{tabular}\n"
      ],
      "text/markdown": [
       "\n",
       "| <!--/--> | Error | Accuracy | Sensitivity | Specificity | Precision | pvalue |\n",
       "|---|---|---|---|---|---|---|\n",
       "| KNN | 0.0087        | 0.9913        | 0.9497        | 0.9962        | 0.9676        |  1.682351e-05 |\n",
       "| Boosting | 0.0928        | 0.9072        | 0.2631        | 0.9839        | 0.6604        |  2.200000e-16 |\n",
       "| Logistic Regression | 0.0939        | 0.9061        | 0.2442        | 0.9849        | 0.6587        |  0.000000e+00 |\n",
       "| Random Forest | 0.0940        | 0.9061        | 0.2227        | 0.9873        | 0.6587        |  2.200000e-16 |\n",
       "| LDA | 0.0992        | 0.9008        | 0.3472        | 0.9667        | 0.5539        | 6.822641e-149 |\n",
       "| QDA | 0.1345        | 0.8655        | 0.4631        | 0.9134        | 0.3891        |  5.363345e-30 |\n",
       "| Naive Bayes | 0.1369        | 0.8631        | 0.4830        | 0.9084        | 0.3857        |  1.331960e-50 |\n",
       "\n"
      ],
      "text/plain": [
       "                    Error  Accuracy Sensitivity Specificity Precision\n",
       "KNN                 0.0087 0.9913   0.9497      0.9962      0.9676   \n",
       "Boosting            0.0928 0.9072   0.2631      0.9839      0.6604   \n",
       "Logistic Regression 0.0939 0.9061   0.2442      0.9849      0.6587   \n",
       "Random Forest       0.0940 0.9061   0.2227      0.9873      0.6587   \n",
       "LDA                 0.0992 0.9008   0.3472      0.9667      0.5539   \n",
       "QDA                 0.1345 0.8655   0.4631      0.9134      0.3891   \n",
       "Naive Bayes         0.1369 0.8631   0.4830      0.9084      0.3857   \n",
       "                    pvalue       \n",
       "KNN                  1.682351e-05\n",
       "Boosting             2.200000e-16\n",
       "Logistic Regression  0.000000e+00\n",
       "Random Forest        2.200000e-16\n",
       "LDA                 6.822641e-149\n",
       "QDA                  5.363345e-30\n",
       "Naive Bayes          1.331960e-50"
      ]
     },
     "metadata": {},
     "output_type": "display_data"
    }
   ],
   "source": [
    "# Error Rate comparison\n",
    "df.compare <- data.frame(Classifier=c(\"LDA\", \"QDA\", \"Naive Bayes\", \"Logistic Regression\", \"KNN\", \"Random Forest\", \"Boosting\"),\n",
    "                         Error=c(lda1.error, qda1.error, bayes1.error, glm1.error, knn1.error, 0.09403697, 0.09279222),\n",
    "                         Accuracy=c(lda.accuracy, qda.accuracy, bayes.accuracy, glm.accuracy, knn.accuracy, 0.9061, 0.9072),\n",
    "                         Sensitivity=c(lda.sensitivity, qda.sensitivity, bayes.sensitivity, glm.sensitivity, knn.sensitivity,\n",
    "                                      0.2227373, 0.2631000),\n",
    "                         Specificity=c(lda.specificity, qda.specificity, bayes.specificity, glm.specificity, knn.specificity,\n",
    "                                      0.9873058, 0.9839000),\n",
    "                         Precision=c(lda.precision, qda.precision, bayes.precision, glm.precision, knn.precision,\n",
    "                                    0.6587, 0.6604),\n",
    "                         pvalue=c(lda.pvalue, qda.pvalue, bayes.pvalue, glm.pvalue, knn.pvalue, \n",
    "                                 2.2e-16, 2.2e-16)\n",
    "                     )\n",
    "\n",
    "df.compare <- df.compare[order(df.compare$Error),]\n",
    "df.compare[,-c(1,7)] <- round(df.compare[,-c(1,7)],4)\n",
    "rownames(df.compare) <- df.compare$Classifier\n",
    "df.compare$Classifier <- NULL\n",
    "df.compare"
   ]
  },
  {
   "cell_type": "code",
   "execution_count": null,
   "metadata": {},
   "outputs": [],
   "source": []
  }
 ],
 "metadata": {
  "kernelspec": {
   "display_name": "R",
   "language": "R",
   "name": "ir"
  },
  "language_info": {
   "codemirror_mode": "r",
   "file_extension": ".r",
   "mimetype": "text/x-r-source",
   "name": "R",
   "pygments_lexer": "r",
   "version": "3.6.1"
  }
 },
 "nbformat": 4,
 "nbformat_minor": 4
}
